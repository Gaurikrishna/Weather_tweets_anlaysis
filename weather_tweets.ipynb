{
 "cells": [
  {
   "cell_type": "code",
   "execution_count": 8,
   "id": "aa124c92",
   "metadata": {},
   "outputs": [],
   "source": [
    "import re\n",
    "from nltk.corpus import stopwords\n",
    "from nltk.stem import WordNetLemmatizer\n",
    "from sklearn.model_selection import train_test_split\n",
    "import pandas as pd\n",
    "import nltk\n",
    "import string\n",
    "import spacy\n",
    "\n",
    "import matplotlib.pyplot as plt\n",
    "import seaborn as sns\n",
    "import wordcloud\n",
    "from tensorflow.keras.preprocessing.text import Tokenizer\n",
    "from sklearn.model_selection import train_test_split\n",
    "from sklearn.feature_extraction.text import CountVectorizer\n",
    "from sklearn.feature_extraction.text import TfidfVectorizer\n",
    "\n",
    "from sklearn.linear_model import LogisticRegression"
   ]
  },
  {
   "cell_type": "code",
   "execution_count": 9,
   "id": "484fdf82",
   "metadata": {},
   "outputs": [
    {
     "name": "stderr",
     "output_type": "stream",
     "text": [
      "<ipython-input-9-bac2f3454903>:1: FutureWarning: Passing a negative integer is deprecated in version 1.0 and will not be supported in future version. Instead, use None to not limit the column width.\n",
      "  pd.set_option('display.max_colwidth',-1)\n"
     ]
    }
   ],
   "source": [
    "pd.set_option('display.max_colwidth',-1) "
   ]
  },
  {
   "cell_type": "code",
   "execution_count": 10,
   "id": "16b9dacc",
   "metadata": {},
   "outputs": [],
   "source": [
    "df_train= pd.read_csv(r'C:\\Users\\gauri\\Documents\\natural\\nlp-getting-started\\train.csv')# loading train data"
   ]
  },
  {
   "cell_type": "code",
   "execution_count": 11,
   "id": "fb1c18ce",
   "metadata": {},
   "outputs": [],
   "source": [
    "df_test= pd.read_csv(r'C:\\Users\\gauri\\Documents\\natural\\nlp-getting-started\\test.csv') #loading test data"
   ]
  },
  {
   "cell_type": "code",
   "execution_count": 12,
   "id": "fa881048",
   "metadata": {},
   "outputs": [
    {
     "data": {
      "text/html": [
       "<div>\n",
       "<style scoped>\n",
       "    .dataframe tbody tr th:only-of-type {\n",
       "        vertical-align: middle;\n",
       "    }\n",
       "\n",
       "    .dataframe tbody tr th {\n",
       "        vertical-align: top;\n",
       "    }\n",
       "\n",
       "    .dataframe thead th {\n",
       "        text-align: right;\n",
       "    }\n",
       "</style>\n",
       "<table border=\"1\" class=\"dataframe\">\n",
       "  <thead>\n",
       "    <tr style=\"text-align: right;\">\n",
       "      <th></th>\n",
       "      <th>id</th>\n",
       "      <th>keyword</th>\n",
       "      <th>location</th>\n",
       "      <th>text</th>\n",
       "      <th>target</th>\n",
       "    </tr>\n",
       "  </thead>\n",
       "  <tbody>\n",
       "    <tr>\n",
       "      <th>0</th>\n",
       "      <td>1</td>\n",
       "      <td>NaN</td>\n",
       "      <td>NaN</td>\n",
       "      <td>Our Deeds are the Reason of this #earthquake May ALLAH Forgive us all</td>\n",
       "      <td>1</td>\n",
       "    </tr>\n",
       "    <tr>\n",
       "      <th>1</th>\n",
       "      <td>4</td>\n",
       "      <td>NaN</td>\n",
       "      <td>NaN</td>\n",
       "      <td>Forest fire near La Ronge Sask. Canada</td>\n",
       "      <td>1</td>\n",
       "    </tr>\n",
       "    <tr>\n",
       "      <th>2</th>\n",
       "      <td>5</td>\n",
       "      <td>NaN</td>\n",
       "      <td>NaN</td>\n",
       "      <td>All residents asked to 'shelter in place' are being notified by officers. No other evacuation or shelter in place orders are expected</td>\n",
       "      <td>1</td>\n",
       "    </tr>\n",
       "    <tr>\n",
       "      <th>3</th>\n",
       "      <td>6</td>\n",
       "      <td>NaN</td>\n",
       "      <td>NaN</td>\n",
       "      <td>13,000 people receive #wildfires evacuation orders in California</td>\n",
       "      <td>1</td>\n",
       "    </tr>\n",
       "    <tr>\n",
       "      <th>4</th>\n",
       "      <td>7</td>\n",
       "      <td>NaN</td>\n",
       "      <td>NaN</td>\n",
       "      <td>Just got sent this photo from Ruby #Alaska as smoke from #wildfires pours into a school</td>\n",
       "      <td>1</td>\n",
       "    </tr>\n",
       "  </tbody>\n",
       "</table>\n",
       "</div>"
      ],
      "text/plain": [
       "   id keyword location  \\\n",
       "0  1   NaN     NaN       \n",
       "1  4   NaN     NaN       \n",
       "2  5   NaN     NaN       \n",
       "3  6   NaN     NaN       \n",
       "4  7   NaN     NaN       \n",
       "\n",
       "                                                                                                                                    text  \\\n",
       "0  Our Deeds are the Reason of this #earthquake May ALLAH Forgive us all                                                                   \n",
       "1  Forest fire near La Ronge Sask. Canada                                                                                                  \n",
       "2  All residents asked to 'shelter in place' are being notified by officers. No other evacuation or shelter in place orders are expected   \n",
       "3  13,000 people receive #wildfires evacuation orders in California                                                                        \n",
       "4  Just got sent this photo from Ruby #Alaska as smoke from #wildfires pours into a school                                                 \n",
       "\n",
       "   target  \n",
       "0  1       \n",
       "1  1       \n",
       "2  1       \n",
       "3  1       \n",
       "4  1       "
      ]
     },
     "execution_count": 12,
     "metadata": {},
     "output_type": "execute_result"
    }
   ],
   "source": [
    "df_train.head()"
   ]
  },
  {
   "cell_type": "markdown",
   "id": "d4b7d29e",
   "metadata": {},
   "source": [
    "#checking for class imbalances ,it looks like the data  well balanced, and accuracy classification models."
   ]
  },
  {
   "cell_type": "code",
   "execution_count": 13,
   "id": "65ec587d",
   "metadata": {},
   "outputs": [
    {
     "data": {
      "text/plain": [
       "0    4342\n",
       "1    3271\n",
       "Name: target, dtype: int64"
      ]
     },
     "execution_count": 13,
     "metadata": {},
     "output_type": "execute_result"
    }
   ],
   "source": [
    "df_train['target'].value_counts()"
   ]
  },
  {
   "cell_type": "markdown",
   "id": "2cf27f0a",
   "metadata": {},
   "source": [
    "# using  some preprocessing steps to clean the text column,remove the stop words ,punctuations etc"
   ]
  },
  {
   "cell_type": "code",
   "execution_count": 14,
   "id": "5ebca211",
   "metadata": {},
   "outputs": [],
   "source": [
    "#using  some preprocessing steps to clean the text column,remove the stop words ,punctuations etc\n",
    "\n",
    "wordnet=WordNetLemmatizer()\n",
    "\n",
    "#sentences = nltk.sent_tokenize(paragraph)\n",
    "\n",
    "def clean(doc) :\n",
    "    sentences = nltk.sent_tokenize(doc)\n",
    "    \n",
    "    for i in range(len(sentences)):\n",
    "        tweets = re.sub('[^a-zA-Z]', ' ', sentences[i])\n",
    "        tweets =  tweets .lower()\n",
    "        tweets  =  tweets .split()\n",
    "        tweets = [wordnet.lemmatize(word) for word in  tweets if not word in set(stopwords.words('english'))]\n",
    "        tweets = ' '.join( tweets )\n",
    "        \n",
    "        \n",
    "        \n",
    "    return  tweets "
   ]
  },
  {
   "cell_type": "code",
   "execution_count": null,
   "id": "1e795ab1",
   "metadata": {},
   "outputs": [],
   "source": []
  },
  {
   "cell_type": "code",
   "execution_count": 15,
   "id": "540c2cf0",
   "metadata": {},
   "outputs": [],
   "source": [
    "df_train['text_cleaned'] = df_train['text'].apply(clean)"
   ]
  },
  {
   "cell_type": "code",
   "execution_count": 17,
   "id": "db94da81",
   "metadata": {},
   "outputs": [],
   "source": [
    "df_test['text_cleaned'] = df_test['text'].apply(clean)"
   ]
  },
  {
   "cell_type": "code",
   "execution_count": 16,
   "id": "e26570e6",
   "metadata": {},
   "outputs": [],
   "source": [
    "df_train['text_cleaned'] = df_train['text_cleaned'].apply(lambda x: re.sub(r'https?://\\S+', '',x))"
   ]
  },
  {
   "cell_type": "code",
   "execution_count": 18,
   "id": "6977ddf7",
   "metadata": {},
   "outputs": [],
   "source": [
    "df_test['text_cleaned'] = df_test['text_cleaned'].apply(lambda x: re.sub(r'https?://\\S+', '',x))"
   ]
  },
  {
   "cell_type": "code",
   "execution_count": 19,
   "id": "665bbf9e",
   "metadata": {},
   "outputs": [
    {
     "data": {
      "text/html": [
       "<div>\n",
       "<style scoped>\n",
       "    .dataframe tbody tr th:only-of-type {\n",
       "        vertical-align: middle;\n",
       "    }\n",
       "\n",
       "    .dataframe tbody tr th {\n",
       "        vertical-align: top;\n",
       "    }\n",
       "\n",
       "    .dataframe thead th {\n",
       "        text-align: right;\n",
       "    }\n",
       "</style>\n",
       "<table border=\"1\" class=\"dataframe\">\n",
       "  <thead>\n",
       "    <tr style=\"text-align: right;\">\n",
       "      <th></th>\n",
       "      <th>id</th>\n",
       "      <th>keyword</th>\n",
       "      <th>location</th>\n",
       "      <th>text</th>\n",
       "      <th>target</th>\n",
       "      <th>text_cleaned</th>\n",
       "    </tr>\n",
       "  </thead>\n",
       "  <tbody>\n",
       "    <tr>\n",
       "      <th>0</th>\n",
       "      <td>1</td>\n",
       "      <td>NaN</td>\n",
       "      <td>NaN</td>\n",
       "      <td>Our Deeds are the Reason of this #earthquake May ALLAH Forgive us all</td>\n",
       "      <td>1</td>\n",
       "      <td>deed reason earthquake may allah forgive u</td>\n",
       "    </tr>\n",
       "    <tr>\n",
       "      <th>1</th>\n",
       "      <td>4</td>\n",
       "      <td>NaN</td>\n",
       "      <td>NaN</td>\n",
       "      <td>Forest fire near La Ronge Sask. Canada</td>\n",
       "      <td>1</td>\n",
       "      <td>canada</td>\n",
       "    </tr>\n",
       "    <tr>\n",
       "      <th>2</th>\n",
       "      <td>5</td>\n",
       "      <td>NaN</td>\n",
       "      <td>NaN</td>\n",
       "      <td>All residents asked to 'shelter in place' are being notified by officers. No other evacuation or shelter in place orders are expected</td>\n",
       "      <td>1</td>\n",
       "      <td>evacuation shelter place order expected</td>\n",
       "    </tr>\n",
       "    <tr>\n",
       "      <th>3</th>\n",
       "      <td>6</td>\n",
       "      <td>NaN</td>\n",
       "      <td>NaN</td>\n",
       "      <td>13,000 people receive #wildfires evacuation orders in California</td>\n",
       "      <td>1</td>\n",
       "      <td>people receive wildfire evacuation order california</td>\n",
       "    </tr>\n",
       "    <tr>\n",
       "      <th>4</th>\n",
       "      <td>7</td>\n",
       "      <td>NaN</td>\n",
       "      <td>NaN</td>\n",
       "      <td>Just got sent this photo from Ruby #Alaska as smoke from #wildfires pours into a school</td>\n",
       "      <td>1</td>\n",
       "      <td>got sent photo ruby alaska smoke wildfire pours school</td>\n",
       "    </tr>\n",
       "  </tbody>\n",
       "</table>\n",
       "</div>"
      ],
      "text/plain": [
       "   id keyword location  \\\n",
       "0  1   NaN     NaN       \n",
       "1  4   NaN     NaN       \n",
       "2  5   NaN     NaN       \n",
       "3  6   NaN     NaN       \n",
       "4  7   NaN     NaN       \n",
       "\n",
       "                                                                                                                                    text  \\\n",
       "0  Our Deeds are the Reason of this #earthquake May ALLAH Forgive us all                                                                   \n",
       "1  Forest fire near La Ronge Sask. Canada                                                                                                  \n",
       "2  All residents asked to 'shelter in place' are being notified by officers. No other evacuation or shelter in place orders are expected   \n",
       "3  13,000 people receive #wildfires evacuation orders in California                                                                        \n",
       "4  Just got sent this photo from Ruby #Alaska as smoke from #wildfires pours into a school                                                 \n",
       "\n",
       "   target                                            text_cleaned  \n",
       "0  1       deed reason earthquake may allah forgive u              \n",
       "1  1       canada                                                  \n",
       "2  1       evacuation shelter place order expected                 \n",
       "3  1       people receive wildfire evacuation order california     \n",
       "4  1       got sent photo ruby alaska smoke wildfire pours school  "
      ]
     },
     "execution_count": 19,
     "metadata": {},
     "output_type": "execute_result"
    }
   ],
   "source": [
    "df_train.head()"
   ]
  },
  {
   "cell_type": "code",
   "execution_count": 14,
   "id": "96436603",
   "metadata": {},
   "outputs": [
    {
     "data": {
      "text/html": [
       "<div>\n",
       "<style scoped>\n",
       "    .dataframe tbody tr th:only-of-type {\n",
       "        vertical-align: middle;\n",
       "    }\n",
       "\n",
       "    .dataframe tbody tr th {\n",
       "        vertical-align: top;\n",
       "    }\n",
       "\n",
       "    .dataframe thead th {\n",
       "        text-align: right;\n",
       "    }\n",
       "</style>\n",
       "<table border=\"1\" class=\"dataframe\">\n",
       "  <thead>\n",
       "    <tr style=\"text-align: right;\">\n",
       "      <th></th>\n",
       "      <th>id</th>\n",
       "      <th>keyword</th>\n",
       "      <th>location</th>\n",
       "      <th>text</th>\n",
       "      <th>text_cleaned</th>\n",
       "    </tr>\n",
       "  </thead>\n",
       "  <tbody>\n",
       "    <tr>\n",
       "      <th>0</th>\n",
       "      <td>0</td>\n",
       "      <td>NaN</td>\n",
       "      <td>NaN</td>\n",
       "      <td>Just happened a terrible car crash</td>\n",
       "      <td>happened terrible car crash</td>\n",
       "    </tr>\n",
       "    <tr>\n",
       "      <th>1</th>\n",
       "      <td>2</td>\n",
       "      <td>NaN</td>\n",
       "      <td>NaN</td>\n",
       "      <td>Heard about #earthquake is different cities, stay safe everyone.</td>\n",
       "      <td>heard earthquake different city stay safe everyone</td>\n",
       "    </tr>\n",
       "    <tr>\n",
       "      <th>2</th>\n",
       "      <td>3</td>\n",
       "      <td>NaN</td>\n",
       "      <td>NaN</td>\n",
       "      <td>there is a forest fire at spot pond, geese are fleeing across the street, I cannot save them all</td>\n",
       "      <td>forest fire spot pond goose fleeing across street cannot save</td>\n",
       "    </tr>\n",
       "    <tr>\n",
       "      <th>3</th>\n",
       "      <td>9</td>\n",
       "      <td>NaN</td>\n",
       "      <td>NaN</td>\n",
       "      <td>Apocalypse lighting. #Spokane #wildfires</td>\n",
       "      <td>spokane wildfire</td>\n",
       "    </tr>\n",
       "    <tr>\n",
       "      <th>4</th>\n",
       "      <td>11</td>\n",
       "      <td>NaN</td>\n",
       "      <td>NaN</td>\n",
       "      <td>Typhoon Soudelor kills 28 in China and Taiwan</td>\n",
       "      <td>typhoon soudelor kill china taiwan</td>\n",
       "    </tr>\n",
       "  </tbody>\n",
       "</table>\n",
       "</div>"
      ],
      "text/plain": [
       "   id keyword location  \\\n",
       "0  0   NaN     NaN       \n",
       "1  2   NaN     NaN       \n",
       "2  3   NaN     NaN       \n",
       "3  9   NaN     NaN       \n",
       "4  11  NaN     NaN       \n",
       "\n",
       "                                                                                               text  \\\n",
       "0  Just happened a terrible car crash                                                                 \n",
       "1  Heard about #earthquake is different cities, stay safe everyone.                                   \n",
       "2  there is a forest fire at spot pond, geese are fleeing across the street, I cannot save them all   \n",
       "3  Apocalypse lighting. #Spokane #wildfires                                                           \n",
       "4  Typhoon Soudelor kills 28 in China and Taiwan                                                      \n",
       "\n",
       "                                                    text_cleaned  \n",
       "0  happened terrible car crash                                    \n",
       "1  heard earthquake different city stay safe everyone             \n",
       "2  forest fire spot pond goose fleeing across street cannot save  \n",
       "3  spokane wildfire                                               \n",
       "4  typhoon soudelor kill china taiwan                             "
      ]
     },
     "execution_count": 14,
     "metadata": {},
     "output_type": "execute_result"
    }
   ],
   "source": [
    "df_test.head()"
   ]
  },
  {
   "cell_type": "code",
   "execution_count": 76,
   "id": "9f1250ce",
   "metadata": {},
   "outputs": [
    {
     "data": {
      "image/png": "[encoded data removed]",
      "text/plain": [
       "<Figure size 432x288 with 1 Axes>"
      ]
     },
     "metadata": {
      "needs_background": "light"
     },
     "output_type": "display_data"
    }
   ],
   "source": [
    "import matplotlib.pyplot as plt\n",
    "x = \"target\"\n",
    "fig, ax = plt.subplots()\n",
    "fig.suptitle(x, fontsize=12)\n",
    "df_train[x].reset_index().groupby(x).count().sort_values(by= \n",
    "       \"index\").plot(kind=\"barh\", legend=False, \n",
    "        ax=ax).grid(axis='x')\n",
    "plt.show()"
   ]
  },
  {
   "cell_type": "markdown",
   "id": "5fe27c00",
   "metadata": {},
   "source": [
    "The dataset is balanced"
   ]
  },
  {
   "cell_type": "code",
   "execution_count": 20,
   "id": "f541ebc6",
   "metadata": {},
   "outputs": [],
   "source": [
    "import spacy"
   ]
  },
  {
   "cell_type": "code",
   "execution_count": 1,
   "id": "d4734270",
   "metadata": {},
   "outputs": [
    {
     "name": "stdout",
     "output_type": "stream",
     "text": [
      "Collecting en-core-web-lg==3.4.1\n",
      "  Downloading https://github.com/explosion/spacy-models/releases/download/en_core_web_lg-3.4.1/en_core_web_lg-3.4.1-py3-none-any.whl (587.7 MB)\n",
      "Requirement already satisfied: spacy<3.5.0,>=3.4.0 in c:\\users\\gauri\\anaconda3\\lib\\site-packages (from en-core-web-lg==3.4.1) (3.4.1)\n",
      "Requirement already satisfied: murmurhash<1.1.0,>=0.28.0 in c:\\users\\gauri\\anaconda3\\lib\\site-packages (from spacy<3.5.0,>=3.4.0->en-core-web-lg==3.4.1) (1.0.8)\n",
      "Requirement already satisfied: pydantic!=1.8,!=1.8.1,<1.10.0,>=1.7.4 in c:\\users\\gauri\\anaconda3\\lib\\site-packages (from spacy<3.5.0,>=3.4.0->en-core-web-lg==3.4.1) (1.8.2)\n",
      "Requirement already satisfied: catalogue<2.1.0,>=2.0.6 in c:\\users\\gauri\\anaconda3\\lib\\site-packages (from spacy<3.5.0,>=3.4.0->en-core-web-lg==3.4.1) (2.0.8)\n",
      "Requirement already satisfied: preshed<3.1.0,>=3.0.2 in c:\\users\\gauri\\anaconda3\\lib\\site-packages (from spacy<3.5.0,>=3.4.0->en-core-web-lg==3.4.1) (3.0.7)\n",
      "Requirement already satisfied: cymem<2.1.0,>=2.0.2 in c:\\users\\gauri\\anaconda3\\lib\\site-packages (from spacy<3.5.0,>=3.4.0->en-core-web-lg==3.4.1) (2.0.6)\n",
      "Requirement already satisfied: numpy>=1.15.0 in c:\\users\\gauri\\anaconda3\\lib\\site-packages (from spacy<3.5.0,>=3.4.0->en-core-web-lg==3.4.1) (1.21.5)\n",
      "Requirement already satisfied: spacy-loggers<2.0.0,>=1.0.0 in c:\\users\\gauri\\anaconda3\\lib\\site-packages (from spacy<3.5.0,>=3.4.0->en-core-web-lg==3.4.1) (1.0.3)\n",
      "Requirement already satisfied: thinc<8.2.0,>=8.1.0 in c:\\users\\gauri\\anaconda3\\lib\\site-packages (from spacy<3.5.0,>=3.4.0->en-core-web-lg==3.4.1) (8.1.1)\n",
      "Requirement already satisfied: langcodes<4.0.0,>=3.2.0 in c:\\users\\gauri\\anaconda3\\lib\\site-packages (from spacy<3.5.0,>=3.4.0->en-core-web-lg==3.4.1) (3.3.0)\n",
      "Requirement already satisfied: requests<3.0.0,>=2.13.0 in c:\\users\\gauri\\anaconda3\\lib\\site-packages (from spacy<3.5.0,>=3.4.0->en-core-web-lg==3.4.1) (2.25.1)\n",
      "Requirement already satisfied: wasabi<1.1.0,>=0.9.1 in c:\\users\\gauri\\anaconda3\\lib\\site-packages (from spacy<3.5.0,>=3.4.0->en-core-web-lg==3.4.1) (0.10.1)\n",
      "Requirement already satisfied: tqdm<5.0.0,>=4.38.0 in c:\\users\\gauri\\anaconda3\\lib\\site-packages (from spacy<3.5.0,>=3.4.0->en-core-web-lg==3.4.1) (4.61.2)\n",
      "Requirement already satisfied: setuptools in c:\\users\\gauri\\anaconda3\\lib\\site-packages (from spacy<3.5.0,>=3.4.0->en-core-web-lg==3.4.1) (52.0.0.post20210125)\n",
      "Requirement already satisfied: pathy>=0.3.5 in c:\\users\\gauri\\anaconda3\\lib\\site-packages (from spacy<3.5.0,>=3.4.0->en-core-web-lg==3.4.1) (0.6.2)\n",
      "Requirement already satisfied: jinja2 in c:\\users\\gauri\\anaconda3\\lib\\site-packages (from spacy<3.5.0,>=3.4.0->en-core-web-lg==3.4.1) (2.11.3)\n",
      "Requirement already satisfied: spacy-legacy<3.1.0,>=3.0.9 in c:\\users\\gauri\\anaconda3\\lib\\site-packages (from spacy<3.5.0,>=3.4.0->en-core-web-lg==3.4.1) (3.0.10)\n",
      "Requirement already satisfied: packaging>=20.0 in c:\\users\\gauri\\anaconda3\\lib\\site-packages (from spacy<3.5.0,>=3.4.0->en-core-web-lg==3.4.1) (21.0)\n",
      "Requirement already satisfied: typer<0.5.0,>=0.3.0 in c:\\users\\gauri\\anaconda3\\lib\\site-packages (from spacy<3.5.0,>=3.4.0->en-core-web-lg==3.4.1) (0.3.2)\n",
      "Requirement already satisfied: srsly<3.0.0,>=2.4.3 in c:\\users\\gauri\\anaconda3\\lib\\site-packages (from spacy<3.5.0,>=3.4.0->en-core-web-lg==3.4.1) (2.4.4)\n",
      "Requirement already satisfied: pyparsing>=2.0.2 in c:\\users\\gauri\\anaconda3\\lib\\site-packages (from packaging>=20.0->spacy<3.5.0,>=3.4.0->en-core-web-lg==3.4.1) (2.4.7)\n",
      "Requirement already satisfied: smart-open<6.0.0,>=5.2.1 in c:\\users\\gauri\\anaconda3\\lib\\site-packages (from pathy>=0.3.5->spacy<3.5.0,>=3.4.0->en-core-web-lg==3.4.1) (5.2.1)\n",
      "Requirement already satisfied: typing-extensions>=3.7.4.3 in c:\\users\\gauri\\anaconda3\\lib\\site-packages (from pydantic!=1.8,!=1.8.1,<1.10.0,>=1.7.4->spacy<3.5.0,>=3.4.0->en-core-web-lg==3.4.1) (3.10.0.0)\n",
      "Requirement already satisfied: urllib3<1.27,>=1.21.1 in c:\\users\\gauri\\anaconda3\\lib\\site-packages (from requests<3.0.0,>=2.13.0->spacy<3.5.0,>=3.4.0->en-core-web-lg==3.4.1) (1.26.6)\n",
      "Requirement already satisfied: chardet<5,>=3.0.2 in c:\\users\\gauri\\anaconda3\\lib\\site-packages (from requests<3.0.0,>=2.13.0->spacy<3.5.0,>=3.4.0->en-core-web-lg==3.4.1) (4.0.0)\n",
      "Requirement already satisfied: certifi>=2017.4.17 in c:\\users\\gauri\\anaconda3\\lib\\site-packages (from requests<3.0.0,>=2.13.0->spacy<3.5.0,>=3.4.0->en-core-web-lg==3.4.1) (2022.9.14)\n",
      "Requirement already satisfied: idna<3,>=2.5 in c:\\users\\gauri\\anaconda3\\lib\\site-packages (from requests<3.0.0,>=2.13.0->spacy<3.5.0,>=3.4.0->en-core-web-lg==3.4.1) (2.10)\n",
      "Requirement already satisfied: blis<0.10.0,>=0.7.8 in c:\\users\\gauri\\anaconda3\\lib\\site-packages (from thinc<8.2.0,>=8.1.0->spacy<3.5.0,>=3.4.0->en-core-web-lg==3.4.1) (0.9.1)\n",
      "Requirement already satisfied: confection<1.0.0,>=0.0.1 in c:\\users\\gauri\\anaconda3\\lib\\site-packages (from thinc<8.2.0,>=8.1.0->spacy<3.5.0,>=3.4.0->en-core-web-lg==3.4.1) (0.0.1)\n",
      "Requirement already satisfied: colorama in c:\\users\\gauri\\anaconda3\\lib\\site-packages (from tqdm<5.0.0,>=4.38.0->spacy<3.5.0,>=3.4.0->en-core-web-lg==3.4.1) (0.4.4)\n",
      "Requirement already satisfied: click<7.2.0,>=7.1.1 in c:\\users\\gauri\\anaconda3\\lib\\site-packages (from typer<0.5.0,>=0.3.0->spacy<3.5.0,>=3.4.0->en-core-web-lg==3.4.1) (7.1.2)\n",
      "Requirement already satisfied: MarkupSafe>=0.23 in c:\\users\\gauri\\anaconda3\\lib\\site-packages (from jinja2->spacy<3.5.0,>=3.4.0->en-core-web-lg==3.4.1) (2.0.1)\n",
      "[+] Download and installation successful\n",
      "You can now load the package via spacy.load('en_core_web_lg')\n"
     ]
    },
    {
     "name": "stderr",
     "output_type": "stream",
     "text": [
      "WARNING: Ignoring invalid distribution -illow (c:\\users\\gauri\\anaconda3\\lib\\site-packages)\n",
      "WARNING: Ignoring invalid distribution -illow (c:\\users\\gauri\\anaconda3\\lib\\site-packages)\n",
      "WARNING: Ignoring invalid distribution -illow (c:\\users\\gauri\\anaconda3\\lib\\site-packages)\n",
      "WARNING: Ignoring invalid distribution -illow (c:\\users\\gauri\\anaconda3\\lib\\site-packages)\n",
      "WARNING: Ignoring invalid distribution -illow (c:\\users\\gauri\\anaconda3\\lib\\site-packages)\n",
      "WARNING: Ignoring invalid distribution -illow (c:\\users\\gauri\\anaconda3\\lib\\site-packages)\n"
     ]
    }
   ],
   "source": [
    "!python -m spacy download en_core_web_lg"
   ]
  },
  {
   "cell_type": "code",
   "execution_count": 21,
   "id": "8cfd5a8c",
   "metadata": {},
   "outputs": [
    {
     "name": "stdout",
     "output_type": "stream",
     "text": [
      "[('Reason', 'PROPN'), ('ALLAH', 'PROPN')]\n"
     ]
    }
   ],
   "source": [
    "ner = spacy.load(\"en_core_web_lg\")\n",
    "string = \"Our Deeds are the Reason of this #earthquake May ALLAH Forgive us all\"\n",
    "print([(token.text, token.pos_) for token in ner(string) if token.pos_=='PROPN'])"
   ]
  },
  {
   "cell_type": "code",
   "execution_count": 22,
   "id": "699ab94a",
   "metadata": {},
   "outputs": [],
   "source": [
    "\n",
    "def propn_count(text, model=ner):\n",
    "    doc = model(text)\n",
    "    pos = [token.pos_ for token in doc]\n",
    "    return pos.count('PROPN')\n",
    "\n",
    "# create a new feature for numbers of proper nouns\n",
    "df_train['propn_count'] = df_train['text_cleaned'].apply(propn_count)\n"
   ]
  },
  {
   "cell_type": "code",
   "execution_count": 23,
   "id": "766f8d9a",
   "metadata": {},
   "outputs": [],
   "source": [
    "def propn_count(text, model=ner):\n",
    "    doc = model(text)\n",
    "    pos = [token.pos_ for token in doc]\n",
    "    return pos.count('PROPN')\n",
    "\n",
    "# create a new feature for numbers of proper nouns\n",
    "df_test['propn_count'] = df_test['text_cleaned'].apply(propn_count)"
   ]
  },
  {
   "cell_type": "code",
   "execution_count": 24,
   "id": "a61b3315",
   "metadata": {},
   "outputs": [],
   "source": [
    "# define a function that returns the number of hashtags in a string\n",
    "def hash_count(string):\n",
    "    words = string.split()\n",
    "    hashtags = [w for w in words if w.startswith('#')]\n",
    "    return len(hashtags)\n",
    "\n",
    "# create a new feature for the number of hashtags\n",
    "df_test['hash_count'] = df_test['text_cleaned'].apply(hash_count)\n"
   ]
  },
  {
   "cell_type": "code",
   "execution_count": 25,
   "id": "ba55305c",
   "metadata": {},
   "outputs": [],
   "source": [
    "# define a function that returns the number of hashtags in a string\n",
    "def hash_count(string):\n",
    "    words = string.split()\n",
    "    hashtags = [w for w in words if w.startswith('#')]\n",
    "    return len(hashtags)\n",
    "\n",
    "# create a new feature for the number of hashtags\n",
    "df_train['hash_count'] = df_train['text_cleaned'].apply(hash_count)\n"
   ]
  },
  {
   "cell_type": "markdown",
   "id": "e8807ea1",
   "metadata": {},
   "source": [
    "# word cloud created for disaster tweets ,this helps us to see the difference between the disaster and non disaster tweets"
   ]
  },
  {
   "cell_type": "code",
   "execution_count": 23,
   "id": "1061d5a6",
   "metadata": {},
   "outputs": [
    {
     "data": {
      "image/png": "[encoded data removed]",
      "text/plain": [
       "<Figure size 432x288 with 1 Axes>"
      ]
     },
     "metadata": {
      "needs_background": "light"
     },
     "output_type": "display_data"
    }
   ],
   "source": [
    "import matplotlib.pyplot as plt\n",
    "import seaborn as sns\n",
    "import wordcloud\n",
    "wc = wordcloud.WordCloud(background_color='black', max_words=100, \n",
    "                         max_font_size=35)\n",
    "\n",
    "#y = \"1\"\n",
    "#corpus = df_train[df_train[\"target\"]==y][\"text_cleaned\"]\n",
    "corpus = ' '.join(df_train[df_train['target'] ==1].text) #raw\n",
    "wc = wc.generate(str(corpus))\n",
    "fig = plt.figure(num=1)\n",
    "plt.axis('off')\n",
    "plt.imshow(wc, cmap=None)\n",
    "plt.show()"
   ]
  },
  {
   "cell_type": "code",
   "execution_count": null,
   "id": "6a8f8fd5",
   "metadata": {},
   "outputs": [],
   "source": [
    "import matplotlib.pyplot as plt\n",
    "import seaborn as sns\n",
    "import wordcloud\n",
    "wc = wordcloud.WordCloud(background_color='black', max_words=100, \n",
    "                         max_font_size=35)\n",
    "\n",
    "#y = \"1\"\n",
    "#corpus = df_train[df_train[\"target\"]==y][\"text_cleaned\"]\n",
    "corpus = ' '.join(df_train[df_train['target'] ==1].text_cleaned) #cleaned\n",
    "wc = wc.generate(str(corpus))\n",
    "fig = plt.figure(num=1)\n",
    "plt.axis('off')\n",
    "plt.imshow(wc, cmap=None)\n",
    "plt.show()"
   ]
  },
  {
   "cell_type": "markdown",
   "id": "2ab63fc1",
   "metadata": {},
   "source": [
    "# BAG OF WORDS and TF_IDF"
   ]
  },
  {
   "cell_type": "code",
   "execution_count": 25,
   "id": "b3edbe1e",
   "metadata": {},
   "outputs": [
    {
     "data": {
      "image/png": "[encoded data removed]",
      "text/plain": [
       "<Figure size 432x288 with 1 Axes>"
      ]
     },
     "metadata": {
      "needs_background": "light"
     },
     "output_type": "display_data"
    }
   ],
   "source": [
    "import matplotlib.pyplot as plt\n",
    "import seaborn as sns\n",
    "import wordcloud\n",
    "wc = wordcloud.WordCloud(background_color='black', max_words=100, \n",
    "                         max_font_size=35)\n",
    "\n",
    "corpus = ' '.join(df_train[df_train['target'] ==0].text)\n",
    "wc = wc.generate(str(corpus))\n",
    "fig = plt.figure(num=1)\n",
    "plt.axis('off')\n",
    "plt.imshow(wc, cmap=None)\n",
    "plt.show()"
   ]
  },
  {
   "cell_type": "code",
   "execution_count": 26,
   "id": "55912748",
   "metadata": {},
   "outputs": [
    {
     "data": {
      "text/html": [
       "<div>\n",
       "<style scoped>\n",
       "    .dataframe tbody tr th:only-of-type {\n",
       "        vertical-align: middle;\n",
       "    }\n",
       "\n",
       "    .dataframe tbody tr th {\n",
       "        vertical-align: top;\n",
       "    }\n",
       "\n",
       "    .dataframe thead th {\n",
       "        text-align: right;\n",
       "    }\n",
       "</style>\n",
       "<table border=\"1\" class=\"dataframe\">\n",
       "  <thead>\n",
       "    <tr style=\"text-align: right;\">\n",
       "      <th></th>\n",
       "      <th>id</th>\n",
       "      <th>keyword</th>\n",
       "      <th>location</th>\n",
       "      <th>text</th>\n",
       "      <th>target</th>\n",
       "      <th>text_cleaned</th>\n",
       "      <th>propn_count</th>\n",
       "      <th>hash_count</th>\n",
       "      <th>word_count</th>\n",
       "      <th>char_count</th>\n",
       "      <th>sentence_count</th>\n",
       "      <th>avg_word_length</th>\n",
       "      <th>avg_sentence_lenght</th>\n",
       "    </tr>\n",
       "  </thead>\n",
       "  <tbody>\n",
       "    <tr>\n",
       "      <th>0</th>\n",
       "      <td>1</td>\n",
       "      <td>NaN</td>\n",
       "      <td>NaN</td>\n",
       "      <td>Our Deeds are the Reason of this #earthquake May ALLAH Forgive us all</td>\n",
       "      <td>1</td>\n",
       "      <td>deed reason earthquake may allah forgive u</td>\n",
       "      <td>2</td>\n",
       "      <td>0</td>\n",
       "      <td>7</td>\n",
       "      <td>36</td>\n",
       "      <td>1</td>\n",
       "      <td>5.142857</td>\n",
       "      <td>7.0</td>\n",
       "    </tr>\n",
       "    <tr>\n",
       "      <th>1</th>\n",
       "      <td>4</td>\n",
       "      <td>NaN</td>\n",
       "      <td>NaN</td>\n",
       "      <td>Forest fire near La Ronge Sask. Canada</td>\n",
       "      <td>1</td>\n",
       "      <td>canada</td>\n",
       "      <td>1</td>\n",
       "      <td>0</td>\n",
       "      <td>1</td>\n",
       "      <td>6</td>\n",
       "      <td>1</td>\n",
       "      <td>6.000000</td>\n",
       "      <td>1.0</td>\n",
       "    </tr>\n",
       "    <tr>\n",
       "      <th>2</th>\n",
       "      <td>5</td>\n",
       "      <td>NaN</td>\n",
       "      <td>NaN</td>\n",
       "      <td>All residents asked to 'shelter in place' are being notified by officers. No other evacuation or shelter in place orders are expected</td>\n",
       "      <td>1</td>\n",
       "      <td>evacuation shelter place order expected</td>\n",
       "      <td>0</td>\n",
       "      <td>0</td>\n",
       "      <td>5</td>\n",
       "      <td>35</td>\n",
       "      <td>1</td>\n",
       "      <td>7.000000</td>\n",
       "      <td>5.0</td>\n",
       "    </tr>\n",
       "    <tr>\n",
       "      <th>3</th>\n",
       "      <td>6</td>\n",
       "      <td>NaN</td>\n",
       "      <td>NaN</td>\n",
       "      <td>13,000 people receive #wildfires evacuation orders in California</td>\n",
       "      <td>1</td>\n",
       "      <td>people receive wildfire evacuation order california</td>\n",
       "      <td>1</td>\n",
       "      <td>0</td>\n",
       "      <td>6</td>\n",
       "      <td>46</td>\n",
       "      <td>1</td>\n",
       "      <td>7.666667</td>\n",
       "      <td>6.0</td>\n",
       "    </tr>\n",
       "    <tr>\n",
       "      <th>4</th>\n",
       "      <td>7</td>\n",
       "      <td>NaN</td>\n",
       "      <td>NaN</td>\n",
       "      <td>Just got sent this photo from Ruby #Alaska as smoke from #wildfires pours into a school</td>\n",
       "      <td>1</td>\n",
       "      <td>got sent photo ruby alaska smoke wildfire pours school</td>\n",
       "      <td>2</td>\n",
       "      <td>0</td>\n",
       "      <td>9</td>\n",
       "      <td>46</td>\n",
       "      <td>1</td>\n",
       "      <td>5.111111</td>\n",
       "      <td>9.0</td>\n",
       "    </tr>\n",
       "  </tbody>\n",
       "</table>\n",
       "</div>"
      ],
      "text/plain": [
       "   id keyword location  \\\n",
       "0  1   NaN     NaN       \n",
       "1  4   NaN     NaN       \n",
       "2  5   NaN     NaN       \n",
       "3  6   NaN     NaN       \n",
       "4  7   NaN     NaN       \n",
       "\n",
       "                                                                                                                                    text  \\\n",
       "0  Our Deeds are the Reason of this #earthquake May ALLAH Forgive us all                                                                   \n",
       "1  Forest fire near La Ronge Sask. Canada                                                                                                  \n",
       "2  All residents asked to 'shelter in place' are being notified by officers. No other evacuation or shelter in place orders are expected   \n",
       "3  13,000 people receive #wildfires evacuation orders in California                                                                        \n",
       "4  Just got sent this photo from Ruby #Alaska as smoke from #wildfires pours into a school                                                 \n",
       "\n",
       "   target                                            text_cleaned  \\\n",
       "0  1       deed reason earthquake may allah forgive u               \n",
       "1  1       canada                                                   \n",
       "2  1       evacuation shelter place order expected                  \n",
       "3  1       people receive wildfire evacuation order california      \n",
       "4  1       got sent photo ruby alaska smoke wildfire pours school   \n",
       "\n",
       "   propn_count  hash_count  word_count  char_count  sentence_count  \\\n",
       "0  2            0           7           36          1                \n",
       "1  1            0           1           6           1                \n",
       "2  0            0           5           35          1                \n",
       "3  1            0           6           46          1                \n",
       "4  2            0           9           46          1                \n",
       "\n",
       "   avg_word_length  avg_sentence_lenght  \n",
       "0  5.142857         7.0                  \n",
       "1  6.000000         1.0                  \n",
       "2  7.000000         5.0                  \n",
       "3  7.666667         6.0                  \n",
       "4  5.111111         9.0                  "
      ]
     },
     "execution_count": 26,
     "metadata": {},
     "output_type": "execute_result"
    }
   ],
   "source": [
    "df_train['word_count'] = df_train[\"text_cleaned\"].apply(lambda x: len(str(x).split(\" \")))\n",
    "df_train['char_count'] = df_train[\"text_cleaned\"].apply(lambda x: sum(len(word) for word in str(x).split(\" \")))\n",
    "df_train['sentence_count'] = df_train[\"text_cleaned\"].apply(lambda x: len(str(x).split(\".\")))\n",
    "df_train['avg_word_length'] = df_train['char_count'] / df_train['word_count']\n",
    "df_train['avg_sentence_lenght'] = df_train['word_count'] / df_train['sentence_count']\n",
    "df_train.head()"
   ]
  },
  {
   "cell_type": "code",
   "execution_count": 27,
   "id": "4c245d9e",
   "metadata": {},
   "outputs": [
    {
     "data": {
      "text/html": [
       "<div>\n",
       "<style scoped>\n",
       "    .dataframe tbody tr th:only-of-type {\n",
       "        vertical-align: middle;\n",
       "    }\n",
       "\n",
       "    .dataframe tbody tr th {\n",
       "        vertical-align: top;\n",
       "    }\n",
       "\n",
       "    .dataframe thead th {\n",
       "        text-align: right;\n",
       "    }\n",
       "</style>\n",
       "<table border=\"1\" class=\"dataframe\">\n",
       "  <thead>\n",
       "    <tr style=\"text-align: right;\">\n",
       "      <th></th>\n",
       "      <th>id</th>\n",
       "      <th>keyword</th>\n",
       "      <th>location</th>\n",
       "      <th>text</th>\n",
       "      <th>text_cleaned</th>\n",
       "      <th>propn_count</th>\n",
       "      <th>hash_count</th>\n",
       "      <th>word_count</th>\n",
       "      <th>char_count</th>\n",
       "      <th>sentence_count</th>\n",
       "      <th>avg_word_length</th>\n",
       "      <th>avg_sentence_lenght</th>\n",
       "    </tr>\n",
       "  </thead>\n",
       "  <tbody>\n",
       "    <tr>\n",
       "      <th>0</th>\n",
       "      <td>0</td>\n",
       "      <td>NaN</td>\n",
       "      <td>NaN</td>\n",
       "      <td>Just happened a terrible car crash</td>\n",
       "      <td>happened terrible car crash</td>\n",
       "      <td>0</td>\n",
       "      <td>0</td>\n",
       "      <td>4</td>\n",
       "      <td>24</td>\n",
       "      <td>1</td>\n",
       "      <td>6.000000</td>\n",
       "      <td>4.0</td>\n",
       "    </tr>\n",
       "    <tr>\n",
       "      <th>1</th>\n",
       "      <td>2</td>\n",
       "      <td>NaN</td>\n",
       "      <td>NaN</td>\n",
       "      <td>Heard about #earthquake is different cities, stay safe everyone.</td>\n",
       "      <td>heard earthquake different city stay safe everyone</td>\n",
       "      <td>0</td>\n",
       "      <td>0</td>\n",
       "      <td>7</td>\n",
       "      <td>44</td>\n",
       "      <td>1</td>\n",
       "      <td>6.285714</td>\n",
       "      <td>7.0</td>\n",
       "    </tr>\n",
       "    <tr>\n",
       "      <th>2</th>\n",
       "      <td>3</td>\n",
       "      <td>NaN</td>\n",
       "      <td>NaN</td>\n",
       "      <td>there is a forest fire at spot pond, geese are fleeing across the street, I cannot save them all</td>\n",
       "      <td>forest fire spot pond goose fleeing across street cannot save</td>\n",
       "      <td>0</td>\n",
       "      <td>0</td>\n",
       "      <td>10</td>\n",
       "      <td>52</td>\n",
       "      <td>1</td>\n",
       "      <td>5.200000</td>\n",
       "      <td>10.0</td>\n",
       "    </tr>\n",
       "    <tr>\n",
       "      <th>3</th>\n",
       "      <td>9</td>\n",
       "      <td>NaN</td>\n",
       "      <td>NaN</td>\n",
       "      <td>Apocalypse lighting. #Spokane #wildfires</td>\n",
       "      <td>spokane wildfire</td>\n",
       "      <td>1</td>\n",
       "      <td>0</td>\n",
       "      <td>2</td>\n",
       "      <td>15</td>\n",
       "      <td>1</td>\n",
       "      <td>7.500000</td>\n",
       "      <td>2.0</td>\n",
       "    </tr>\n",
       "    <tr>\n",
       "      <th>4</th>\n",
       "      <td>11</td>\n",
       "      <td>NaN</td>\n",
       "      <td>NaN</td>\n",
       "      <td>Typhoon Soudelor kills 28 in China and Taiwan</td>\n",
       "      <td>typhoon soudelor kill china taiwan</td>\n",
       "      <td>4</td>\n",
       "      <td>0</td>\n",
       "      <td>5</td>\n",
       "      <td>30</td>\n",
       "      <td>1</td>\n",
       "      <td>6.000000</td>\n",
       "      <td>5.0</td>\n",
       "    </tr>\n",
       "  </tbody>\n",
       "</table>\n",
       "</div>"
      ],
      "text/plain": [
       "   id keyword location  \\\n",
       "0  0   NaN     NaN       \n",
       "1  2   NaN     NaN       \n",
       "2  3   NaN     NaN       \n",
       "3  9   NaN     NaN       \n",
       "4  11  NaN     NaN       \n",
       "\n",
       "                                                                                               text  \\\n",
       "0  Just happened a terrible car crash                                                                 \n",
       "1  Heard about #earthquake is different cities, stay safe everyone.                                   \n",
       "2  there is a forest fire at spot pond, geese are fleeing across the street, I cannot save them all   \n",
       "3  Apocalypse lighting. #Spokane #wildfires                                                           \n",
       "4  Typhoon Soudelor kills 28 in China and Taiwan                                                      \n",
       "\n",
       "                                                    text_cleaned  propn_count  \\\n",
       "0  happened terrible car crash                                    0             \n",
       "1  heard earthquake different city stay safe everyone             0             \n",
       "2  forest fire spot pond goose fleeing across street cannot save  0             \n",
       "3  spokane wildfire                                               1             \n",
       "4  typhoon soudelor kill china taiwan                             4             \n",
       "\n",
       "   hash_count  word_count  char_count  sentence_count  avg_word_length  \\\n",
       "0  0           4           24          1               6.000000          \n",
       "1  0           7           44          1               6.285714          \n",
       "2  0           10          52          1               5.200000          \n",
       "3  0           2           15          1               7.500000          \n",
       "4  0           5           30          1               6.000000          \n",
       "\n",
       "   avg_sentence_lenght  \n",
       "0  4.0                  \n",
       "1  7.0                  \n",
       "2  10.0                 \n",
       "3  2.0                  \n",
       "4  5.0                  "
      ]
     },
     "execution_count": 27,
     "metadata": {},
     "output_type": "execute_result"
    }
   ],
   "source": [
    "df_test['word_count'] = df_test[\"text_cleaned\"].apply(lambda x: len(str(x).split(\" \")))\n",
    "df_test['char_count'] = df_test[\"text_cleaned\"].apply(lambda x: sum(len(word) for word in str(x).split(\" \")))\n",
    "df_test['sentence_count'] = df_test[\"text_cleaned\"].apply(lambda x: len(str(x).split(\".\")))\n",
    "df_test['avg_word_length'] = df_test['char_count'] / df_test['word_count']\n",
    "df_test['avg_sentence_lenght'] = df_test['word_count'] / df_test['sentence_count']\n",
    "df_test.head()"
   ]
  },
  {
   "cell_type": "code",
   "execution_count": 28,
   "id": "c2952a9a",
   "metadata": {},
   "outputs": [],
   "source": [
    "features = ['word_count', 'char_count', 'sentence_count', 'avg_word_length', 'avg_sentence_lenght', \n",
    "            'propn_count','hash_count' ]"
   ]
  },
  {
   "cell_type": "code",
   "execution_count": 29,
   "id": "ce79bb6c",
   "metadata": {},
   "outputs": [
    {
     "data": {
      "image/png": "[encoded data removed]",
      "text/plain": [
       "<Figure size 1440x1440 with 7 Axes>"
      ]
     },
     "metadata": {
      "needs_background": "light"
     },
     "output_type": "display_data"
    }
   ],
   "source": [
    "# create the figure\n",
    "fig = plt.figure(figsize=(20, 20))\n",
    "\n",
    "# adjust the height of the padding between subplots to avoid overlapping\n",
    "plt.subplots_adjust(hspace=0.3)\n",
    "\n",
    "# add a centered suptitle to the figure\n",
    "plt.suptitle(\"Difference in Features, Disaster vs. Non-disaster\", fontsize=20, y=0.91)\n",
    "\n",
    "# generate the histograms in a for loop\n",
    "for i, feature in enumerate(features):\n",
    "    \n",
    "    # add a new subplot iteratively\n",
    "    ax = plt.subplot(4, 3, i+1)\n",
    "    ax =df_train[df_train['target']==0][feature].hist(alpha=0.5, label='Non-disaster', bins=40, color='royalblue', density=True)\n",
    "    ax = df_train[df_train['target']==1][feature].hist(alpha=0.5, label='Disaster', bins=40, color='lightcoral', density=True)\n",
    "    \n",
    "    # set x_label, y_label, and legend\n",
    "    ax.set_xlabel(features[i], fontsize=14)\n",
    "    # set x_label, y_label, and legend\n",
    "    ax.set_xlabel(features[i], fontsize=14)\n",
    "    ax.set_ylabel('Probability Density', fontsize=14)\n",
    "    ax.legend(loc='upper right', fontsize=14)\n",
    "    \n",
    "\n",
    "# shot the figure\n",
    "plt.show()\n"
   ]
  },
  {
   "cell_type": "markdown",
   "id": "e054c146",
   "metadata": {},
   "source": [
    "#The http characters in the regex match the literal characters.\n",
    "\n",
    "\\S matches any character that is not a whitespace character. Notice that the S is uppercase.\n",
    "\n",
    "The plus + matches the preceding character (any non-whitespace character) 1 or more times."
   ]
  },
  {
   "cell_type": "markdown",
   "id": "2f360f90",
   "metadata": {},
   "source": [
    "#Feature Engineering"
   ]
  },
  {
   "cell_type": "code",
   "execution_count": 267,
   "id": "4c1ce833",
   "metadata": {},
   "outputs": [
    {
     "data": {
      "text/plain": [
       "(7613,)"
      ]
     },
     "execution_count": 267,
     "metadata": {},
     "output_type": "execute_result"
    }
   ],
   "source": [
    "y_train.shape"
   ]
  },
  {
   "cell_type": "code",
   "execution_count": 18,
   "id": "370a2b7f",
   "metadata": {},
   "outputs": [],
   "source": [
    "y_train = df_train['target']"
   ]
  },
  {
   "cell_type": "code",
   "execution_count": null,
   "id": "65a4cef6",
   "metadata": {},
   "outputs": [],
   "source": [
    "#using scikit learn count vectorizer for bag of words model and tfidfvectorizer for term_frequency -inverse term frequency"
   ]
  },
  {
   "cell_type": "code",
   "execution_count": 30,
   "id": "26b76d19",
   "metadata": {},
   "outputs": [],
   "source": [
    "from sklearn.feature_extraction.text import CountVectorizer\n",
    "from sklearn.feature_extraction.text import TfidfVectorizer"
   ]
  },
  {
   "cell_type": "code",
   "execution_count": 31,
   "id": "38ceb446",
   "metadata": {},
   "outputs": [],
   "source": [
    "cv = CountVectorizer()"
   ]
  },
  {
   "cell_type": "code",
   "execution_count": 32,
   "id": "e492aadc",
   "metadata": {},
   "outputs": [],
   "source": [
    "#Fit the training data and then return the matrix\n",
    "X_train_bow = cv.fit_transform(df_train['text_cleaned']).toarray()"
   ]
  },
  {
   "cell_type": "code",
   "execution_count": 49,
   "id": "baf9c4af",
   "metadata": {},
   "outputs": [
    {
     "data": {
      "text/plain": [
       "array([[0, 0, 0, ..., 0, 0, 0],\n",
       "       [0, 0, 0, ..., 0, 0, 0],\n",
       "       [0, 0, 0, ..., 0, 0, 0],\n",
       "       ...,\n",
       "       [0, 0, 0, ..., 0, 0, 0],\n",
       "       [0, 0, 0, ..., 0, 0, 0],\n",
       "       [0, 0, 0, ..., 0, 0, 0]], dtype=int64)"
      ]
     },
     "execution_count": 49,
     "metadata": {},
     "output_type": "execute_result"
    }
   ],
   "source": [
    "X_train_bow"
   ]
  },
  {
   "cell_type": "code",
   "execution_count": 33,
   "id": "dc90809f",
   "metadata": {},
   "outputs": [],
   "source": [
    "\n",
    "X_bow_df = pd.DataFrame(X_train_bow)"
   ]
  },
  {
   "cell_type": "code",
   "execution_count": 34,
   "id": "5401f1b7",
   "metadata": {},
   "outputs": [
    {
     "data": {
      "text/html": [
       "<div>\n",
       "<style scoped>\n",
       "    .dataframe tbody tr th:only-of-type {\n",
       "        vertical-align: middle;\n",
       "    }\n",
       "\n",
       "    .dataframe tbody tr th {\n",
       "        vertical-align: top;\n",
       "    }\n",
       "\n",
       "    .dataframe thead th {\n",
       "        text-align: right;\n",
       "    }\n",
       "</style>\n",
       "<table border=\"1\" class=\"dataframe\">\n",
       "  <thead>\n",
       "    <tr style=\"text-align: right;\">\n",
       "      <th></th>\n",
       "      <th>0</th>\n",
       "      <th>1</th>\n",
       "      <th>2</th>\n",
       "      <th>3</th>\n",
       "      <th>4</th>\n",
       "      <th>5</th>\n",
       "      <th>6</th>\n",
       "      <th>7</th>\n",
       "      <th>8</th>\n",
       "      <th>9</th>\n",
       "      <th>...</th>\n",
       "      <th>17586</th>\n",
       "      <th>17587</th>\n",
       "      <th>17588</th>\n",
       "      <th>17589</th>\n",
       "      <th>17590</th>\n",
       "      <th>17591</th>\n",
       "      <th>17592</th>\n",
       "      <th>17593</th>\n",
       "      <th>17594</th>\n",
       "      <th>17595</th>\n",
       "    </tr>\n",
       "  </thead>\n",
       "  <tbody>\n",
       "    <tr>\n",
       "      <th>0</th>\n",
       "      <td>0</td>\n",
       "      <td>0</td>\n",
       "      <td>0</td>\n",
       "      <td>0</td>\n",
       "      <td>0</td>\n",
       "      <td>0</td>\n",
       "      <td>0</td>\n",
       "      <td>0</td>\n",
       "      <td>0</td>\n",
       "      <td>0</td>\n",
       "      <td>...</td>\n",
       "      <td>0</td>\n",
       "      <td>0</td>\n",
       "      <td>0</td>\n",
       "      <td>0</td>\n",
       "      <td>0</td>\n",
       "      <td>0</td>\n",
       "      <td>0</td>\n",
       "      <td>0</td>\n",
       "      <td>0</td>\n",
       "      <td>0</td>\n",
       "    </tr>\n",
       "    <tr>\n",
       "      <th>1</th>\n",
       "      <td>0</td>\n",
       "      <td>0</td>\n",
       "      <td>0</td>\n",
       "      <td>0</td>\n",
       "      <td>0</td>\n",
       "      <td>0</td>\n",
       "      <td>0</td>\n",
       "      <td>0</td>\n",
       "      <td>0</td>\n",
       "      <td>0</td>\n",
       "      <td>...</td>\n",
       "      <td>0</td>\n",
       "      <td>0</td>\n",
       "      <td>0</td>\n",
       "      <td>0</td>\n",
       "      <td>0</td>\n",
       "      <td>0</td>\n",
       "      <td>0</td>\n",
       "      <td>0</td>\n",
       "      <td>0</td>\n",
       "      <td>0</td>\n",
       "    </tr>\n",
       "    <tr>\n",
       "      <th>2</th>\n",
       "      <td>0</td>\n",
       "      <td>0</td>\n",
       "      <td>0</td>\n",
       "      <td>0</td>\n",
       "      <td>0</td>\n",
       "      <td>0</td>\n",
       "      <td>0</td>\n",
       "      <td>0</td>\n",
       "      <td>0</td>\n",
       "      <td>0</td>\n",
       "      <td>...</td>\n",
       "      <td>0</td>\n",
       "      <td>0</td>\n",
       "      <td>0</td>\n",
       "      <td>0</td>\n",
       "      <td>0</td>\n",
       "      <td>0</td>\n",
       "      <td>0</td>\n",
       "      <td>0</td>\n",
       "      <td>0</td>\n",
       "      <td>0</td>\n",
       "    </tr>\n",
       "    <tr>\n",
       "      <th>3</th>\n",
       "      <td>0</td>\n",
       "      <td>0</td>\n",
       "      <td>0</td>\n",
       "      <td>0</td>\n",
       "      <td>0</td>\n",
       "      <td>0</td>\n",
       "      <td>0</td>\n",
       "      <td>0</td>\n",
       "      <td>0</td>\n",
       "      <td>0</td>\n",
       "      <td>...</td>\n",
       "      <td>0</td>\n",
       "      <td>0</td>\n",
       "      <td>0</td>\n",
       "      <td>0</td>\n",
       "      <td>0</td>\n",
       "      <td>0</td>\n",
       "      <td>0</td>\n",
       "      <td>0</td>\n",
       "      <td>0</td>\n",
       "      <td>0</td>\n",
       "    </tr>\n",
       "    <tr>\n",
       "      <th>4</th>\n",
       "      <td>0</td>\n",
       "      <td>0</td>\n",
       "      <td>0</td>\n",
       "      <td>0</td>\n",
       "      <td>0</td>\n",
       "      <td>0</td>\n",
       "      <td>0</td>\n",
       "      <td>0</td>\n",
       "      <td>0</td>\n",
       "      <td>0</td>\n",
       "      <td>...</td>\n",
       "      <td>0</td>\n",
       "      <td>0</td>\n",
       "      <td>0</td>\n",
       "      <td>0</td>\n",
       "      <td>0</td>\n",
       "      <td>0</td>\n",
       "      <td>0</td>\n",
       "      <td>0</td>\n",
       "      <td>0</td>\n",
       "      <td>0</td>\n",
       "    </tr>\n",
       "  </tbody>\n",
       "</table>\n",
       "<p>5 rows × 17596 columns</p>\n",
       "</div>"
      ],
      "text/plain": [
       "   0  1  2  3  4  5  6  7  8  9  ...  17586  17587  17588  17589  17590  \\\n",
       "0  0  0  0  0  0  0  0  0  0  0  ...  0      0      0      0      0       \n",
       "1  0  0  0  0  0  0  0  0  0  0  ...  0      0      0      0      0       \n",
       "2  0  0  0  0  0  0  0  0  0  0  ...  0      0      0      0      0       \n",
       "3  0  0  0  0  0  0  0  0  0  0  ...  0      0      0      0      0       \n",
       "4  0  0  0  0  0  0  0  0  0  0  ...  0      0      0      0      0       \n",
       "\n",
       "   17591  17592  17593  17594  17595  \n",
       "0  0      0      0      0      0      \n",
       "1  0      0      0      0      0      \n",
       "2  0      0      0      0      0      \n",
       "3  0      0      0      0      0      \n",
       "4  0      0      0      0      0      \n",
       "\n",
       "[5 rows x 17596 columns]"
      ]
     },
     "execution_count": 34,
     "metadata": {},
     "output_type": "execute_result"
    }
   ],
   "source": [
    "X_bow_df.head()"
   ]
  },
  {
   "cell_type": "code",
   "execution_count": 54,
   "id": "9e6e688b",
   "metadata": {
    "scrolled": true
   },
   "outputs": [
    {
     "data": {
      "text/html": [
       "<div>\n",
       "<style scoped>\n",
       "    .dataframe tbody tr th:only-of-type {\n",
       "        vertical-align: middle;\n",
       "    }\n",
       "\n",
       "    .dataframe tbody tr th {\n",
       "        vertical-align: top;\n",
       "    }\n",
       "\n",
       "    .dataframe thead th {\n",
       "        text-align: right;\n",
       "    }\n",
       "</style>\n",
       "<table border=\"1\" class=\"dataframe\">\n",
       "  <thead>\n",
       "    <tr style=\"text-align: right;\">\n",
       "      <th></th>\n",
       "      <th>id</th>\n",
       "      <th>keyword</th>\n",
       "      <th>location</th>\n",
       "      <th>text</th>\n",
       "      <th>target</th>\n",
       "      <th>text_cleaned</th>\n",
       "      <th>propn_count</th>\n",
       "      <th>hash_count</th>\n",
       "      <th>word_count</th>\n",
       "      <th>char_count</th>\n",
       "      <th>sentence_count</th>\n",
       "      <th>avg_word_length</th>\n",
       "      <th>avg_sentence_lenght</th>\n",
       "    </tr>\n",
       "  </thead>\n",
       "  <tbody>\n",
       "    <tr>\n",
       "      <th>0</th>\n",
       "      <td>1</td>\n",
       "      <td>NaN</td>\n",
       "      <td>NaN</td>\n",
       "      <td>Our Deeds are the Reason of this #earthquake May ALLAH Forgive us all</td>\n",
       "      <td>1</td>\n",
       "      <td>deed reason earthquake may allah forgive u</td>\n",
       "      <td>2</td>\n",
       "      <td>0</td>\n",
       "      <td>7</td>\n",
       "      <td>36</td>\n",
       "      <td>1</td>\n",
       "      <td>5.142857</td>\n",
       "      <td>7.0</td>\n",
       "    </tr>\n",
       "    <tr>\n",
       "      <th>1</th>\n",
       "      <td>4</td>\n",
       "      <td>NaN</td>\n",
       "      <td>NaN</td>\n",
       "      <td>Forest fire near La Ronge Sask. Canada</td>\n",
       "      <td>1</td>\n",
       "      <td>canada</td>\n",
       "      <td>1</td>\n",
       "      <td>0</td>\n",
       "      <td>1</td>\n",
       "      <td>6</td>\n",
       "      <td>1</td>\n",
       "      <td>6.000000</td>\n",
       "      <td>1.0</td>\n",
       "    </tr>\n",
       "    <tr>\n",
       "      <th>2</th>\n",
       "      <td>5</td>\n",
       "      <td>NaN</td>\n",
       "      <td>NaN</td>\n",
       "      <td>All residents asked to 'shelter in place' are being notified by officers. No other evacuation or shelter in place orders are expected</td>\n",
       "      <td>1</td>\n",
       "      <td>evacuation shelter place order expected</td>\n",
       "      <td>0</td>\n",
       "      <td>0</td>\n",
       "      <td>5</td>\n",
       "      <td>35</td>\n",
       "      <td>1</td>\n",
       "      <td>7.000000</td>\n",
       "      <td>5.0</td>\n",
       "    </tr>\n",
       "    <tr>\n",
       "      <th>3</th>\n",
       "      <td>6</td>\n",
       "      <td>NaN</td>\n",
       "      <td>NaN</td>\n",
       "      <td>13,000 people receive #wildfires evacuation orders in California</td>\n",
       "      <td>1</td>\n",
       "      <td>people receive wildfire evacuation order california</td>\n",
       "      <td>1</td>\n",
       "      <td>0</td>\n",
       "      <td>6</td>\n",
       "      <td>46</td>\n",
       "      <td>1</td>\n",
       "      <td>7.666667</td>\n",
       "      <td>6.0</td>\n",
       "    </tr>\n",
       "    <tr>\n",
       "      <th>4</th>\n",
       "      <td>7</td>\n",
       "      <td>NaN</td>\n",
       "      <td>NaN</td>\n",
       "      <td>Just got sent this photo from Ruby #Alaska as smoke from #wildfires pours into a school</td>\n",
       "      <td>1</td>\n",
       "      <td>got sent photo ruby alaska smoke wildfire pours school</td>\n",
       "      <td>2</td>\n",
       "      <td>0</td>\n",
       "      <td>9</td>\n",
       "      <td>46</td>\n",
       "      <td>1</td>\n",
       "      <td>5.111111</td>\n",
       "      <td>9.0</td>\n",
       "    </tr>\n",
       "    <tr>\n",
       "      <th>...</th>\n",
       "      <td>...</td>\n",
       "      <td>...</td>\n",
       "      <td>...</td>\n",
       "      <td>...</td>\n",
       "      <td>...</td>\n",
       "      <td>...</td>\n",
       "      <td>...</td>\n",
       "      <td>...</td>\n",
       "      <td>...</td>\n",
       "      <td>...</td>\n",
       "      <td>...</td>\n",
       "      <td>...</td>\n",
       "      <td>...</td>\n",
       "    </tr>\n",
       "    <tr>\n",
       "      <th>7608</th>\n",
       "      <td>10869</td>\n",
       "      <td>NaN</td>\n",
       "      <td>NaN</td>\n",
       "      <td>Two giant cranes holding a bridge collapse into nearby homes http://t.co/STfMbbZFB5</td>\n",
       "      <td>1</td>\n",
       "      <td>two giant crane holding bridge collapse nearby home http co stfmbbzfb</td>\n",
       "      <td>4</td>\n",
       "      <td>0</td>\n",
       "      <td>11</td>\n",
       "      <td>59</td>\n",
       "      <td>1</td>\n",
       "      <td>5.363636</td>\n",
       "      <td>11.0</td>\n",
       "    </tr>\n",
       "    <tr>\n",
       "      <th>7609</th>\n",
       "      <td>10870</td>\n",
       "      <td>NaN</td>\n",
       "      <td>NaN</td>\n",
       "      <td>@aria_ahrary @TheTawniest The out of control wild fires in California even in the Northern part of the state. Very troubling.</td>\n",
       "      <td>1</td>\n",
       "      <td>troubling</td>\n",
       "      <td>0</td>\n",
       "      <td>0</td>\n",
       "      <td>1</td>\n",
       "      <td>9</td>\n",
       "      <td>1</td>\n",
       "      <td>9.000000</td>\n",
       "      <td>1.0</td>\n",
       "    </tr>\n",
       "    <tr>\n",
       "      <th>7610</th>\n",
       "      <td>10871</td>\n",
       "      <td>NaN</td>\n",
       "      <td>NaN</td>\n",
       "      <td>M1.94 [01:04 UTC]?5km S of Volcano Hawaii. http://t.co/zDtoyd8EbJ</td>\n",
       "      <td>1</td>\n",
       "      <td>http co zdtoyd ebj</td>\n",
       "      <td>4</td>\n",
       "      <td>0</td>\n",
       "      <td>4</td>\n",
       "      <td>15</td>\n",
       "      <td>1</td>\n",
       "      <td>3.750000</td>\n",
       "      <td>4.0</td>\n",
       "    </tr>\n",
       "    <tr>\n",
       "      <th>7611</th>\n",
       "      <td>10872</td>\n",
       "      <td>NaN</td>\n",
       "      <td>NaN</td>\n",
       "      <td>Police investigating after an e-bike collided with a car in Little Portugal. E-bike rider suffered serious non-life threatening injuries.</td>\n",
       "      <td>1</td>\n",
       "      <td>e bike rider suffered serious non life threatening injury</td>\n",
       "      <td>0</td>\n",
       "      <td>0</td>\n",
       "      <td>9</td>\n",
       "      <td>49</td>\n",
       "      <td>1</td>\n",
       "      <td>5.444444</td>\n",
       "      <td>9.0</td>\n",
       "    </tr>\n",
       "    <tr>\n",
       "      <th>7612</th>\n",
       "      <td>10873</td>\n",
       "      <td>NaN</td>\n",
       "      <td>NaN</td>\n",
       "      <td>The Latest: More Homes Razed by Northern California Wildfire - ABC News http://t.co/YmY4rSkQ3d</td>\n",
       "      <td>1</td>\n",
       "      <td>latest home razed northern california wildfire abc news http co ymy rskq</td>\n",
       "      <td>9</td>\n",
       "      <td>0</td>\n",
       "      <td>12</td>\n",
       "      <td>61</td>\n",
       "      <td>1</td>\n",
       "      <td>5.083333</td>\n",
       "      <td>12.0</td>\n",
       "    </tr>\n",
       "  </tbody>\n",
       "</table>\n",
       "<p>7613 rows × 13 columns</p>\n",
       "</div>"
      ],
      "text/plain": [
       "         id keyword location  \\\n",
       "0     1      NaN     NaN       \n",
       "1     4      NaN     NaN       \n",
       "2     5      NaN     NaN       \n",
       "3     6      NaN     NaN       \n",
       "4     7      NaN     NaN       \n",
       "...  ..      ...     ...       \n",
       "7608  10869  NaN     NaN       \n",
       "7609  10870  NaN     NaN       \n",
       "7610  10871  NaN     NaN       \n",
       "7611  10872  NaN     NaN       \n",
       "7612  10873  NaN     NaN       \n",
       "\n",
       "                                                                                                                                           text  \\\n",
       "0     Our Deeds are the Reason of this #earthquake May ALLAH Forgive us all                                                                       \n",
       "1     Forest fire near La Ronge Sask. Canada                                                                                                      \n",
       "2     All residents asked to 'shelter in place' are being notified by officers. No other evacuation or shelter in place orders are expected       \n",
       "3     13,000 people receive #wildfires evacuation orders in California                                                                            \n",
       "4     Just got sent this photo from Ruby #Alaska as smoke from #wildfires pours into a school                                                     \n",
       "...                                                                                        ...                                                    \n",
       "7608  Two giant cranes holding a bridge collapse into nearby homes http://t.co/STfMbbZFB5                                                         \n",
       "7609  @aria_ahrary @TheTawniest The out of control wild fires in California even in the Northern part of the state. Very troubling.               \n",
       "7610  M1.94 [01:04 UTC]?5km S of Volcano Hawaii. http://t.co/zDtoyd8EbJ                                                                           \n",
       "7611  Police investigating after an e-bike collided with a car in Little Portugal. E-bike rider suffered serious non-life threatening injuries.   \n",
       "7612  The Latest: More Homes Razed by Northern California Wildfire - ABC News http://t.co/YmY4rSkQ3d                                              \n",
       "\n",
       "      target  \\\n",
       "0     1        \n",
       "1     1        \n",
       "2     1        \n",
       "3     1        \n",
       "4     1        \n",
       "...  ..        \n",
       "7608  1        \n",
       "7609  1        \n",
       "7610  1        \n",
       "7611  1        \n",
       "7612  1        \n",
       "\n",
       "                                                                  text_cleaned  \\\n",
       "0     deed reason earthquake may allah forgive u                                 \n",
       "1     canada                                                                     \n",
       "2     evacuation shelter place order expected                                    \n",
       "3     people receive wildfire evacuation order california                        \n",
       "4     got sent photo ruby alaska smoke wildfire pours school                     \n",
       "...                                                      ...                     \n",
       "7608  two giant crane holding bridge collapse nearby home http co stfmbbzfb      \n",
       "7609  troubling                                                                  \n",
       "7610  http co zdtoyd ebj                                                         \n",
       "7611  e bike rider suffered serious non life threatening injury                  \n",
       "7612  latest home razed northern california wildfire abc news http co ymy rskq   \n",
       "\n",
       "      propn_count  hash_count  word_count  char_count  sentence_count  \\\n",
       "0     2            0           7           36          1                \n",
       "1     1            0           1           6           1                \n",
       "2     0            0           5           35          1                \n",
       "3     1            0           6           46          1                \n",
       "4     2            0           9           46          1                \n",
       "...  ..           ..          ..           ..         ..                \n",
       "7608  4            0           11          59          1                \n",
       "7609  0            0           1           9           1                \n",
       "7610  4            0           4           15          1                \n",
       "7611  0            0           9           49          1                \n",
       "7612  9            0           12          61          1                \n",
       "\n",
       "      avg_word_length  avg_sentence_lenght  \n",
       "0     5.142857         7.0                  \n",
       "1     6.000000         1.0                  \n",
       "2     7.000000         5.0                  \n",
       "3     7.666667         6.0                  \n",
       "4     5.111111         9.0                  \n",
       "...        ...         ...                  \n",
       "7608  5.363636         11.0                 \n",
       "7609  9.000000         1.0                  \n",
       "7610  3.750000         4.0                  \n",
       "7611  5.444444         9.0                  \n",
       "7612  5.083333         12.0                 \n",
       "\n",
       "[7613 rows x 13 columns]"
      ]
     },
     "execution_count": 54,
     "metadata": {},
     "output_type": "execute_result"
    }
   ],
   "source": [
    "df_train.drop('bow',axis=1)"
   ]
  },
  {
   "cell_type": "code",
   "execution_count": 55,
   "id": "1c2f9c2b",
   "metadata": {},
   "outputs": [
    {
     "data": {
      "text/plain": [
       "(7613, 17601)"
      ]
     },
     "execution_count": 55,
     "metadata": {},
     "output_type": "execute_result"
    }
   ],
   "source": [
    "X_features_bow = pd.concat([df_train[['word_count', 'char_count', 'sentence_count', 'avg_word_length', 'avg_sentence_lenght']],\n",
    "                        X_bow_df], axis=1)\n",
    "\n",
    "# check the shape\n",
    "X_features_bow.shape"
   ]
  },
  {
   "cell_type": "code",
   "execution_count": 56,
   "id": "f5880e41",
   "metadata": {},
   "outputs": [],
   "source": [
    "y_features_bow = df_train['target']"
   ]
  },
  {
   "cell_type": "code",
   "execution_count": 57,
   "id": "97696011",
   "metadata": {},
   "outputs": [],
   "source": [
    "X_training_bow, Xbow_val, ybow_train, ybow_val = train_test_split(X_features_bow, y_features_bow, shuffle = True, random_state = 123)"
   ]
  },
  {
   "cell_type": "code",
   "execution_count": 58,
   "id": "863cdc7b",
   "metadata": {},
   "outputs": [
    {
     "data": {
      "text/plain": [
       "array([1, 0, 0, ..., 0, 1, 1], dtype=int64)"
      ]
     },
     "execution_count": 58,
     "metadata": {},
     "output_type": "execute_result"
    }
   ],
   "source": [
    "from sklearn.naive_bayes import MultinomialNB\n",
    "naive_bayes = MultinomialNB()\n",
    "naive_bayes.fit(X_training_bow, ybow_train)\n",
    "predictions_nb_bow= naive_bayes.predict(Xbow_val)\n",
    "predictions_nb_bow"
   ]
  },
  {
   "cell_type": "code",
   "execution_count": 60,
   "id": "e97931f8",
   "metadata": {},
   "outputs": [
    {
     "name": "stderr",
     "output_type": "stream",
     "text": [
      "C:\\Users\\gauri\\anaconda3\\lib\\site-packages\\sklearn\\linear_model\\_logistic.py:763: ConvergenceWarning: lbfgs failed to converge (status=1):\n",
      "STOP: TOTAL NO. of ITERATIONS REACHED LIMIT.\n",
      "\n",
      "Increase the number of iterations (max_iter) or scale the data as shown in:\n",
      "    https://scikit-learn.org/stable/modules/preprocessing.html\n",
      "Please also refer to the documentation for alternative solver options:\n",
      "    https://scikit-learn.org/stable/modules/linear_model.html#logistic-regression\n",
      "  n_iter_i = _check_optimize_result(\n"
     ]
    },
    {
     "data": {
      "text/plain": [
       "array([1, 0, 0, ..., 0, 1, 1], dtype=int64)"
      ]
     },
     "execution_count": 60,
     "metadata": {},
     "output_type": "execute_result"
    }
   ],
   "source": [
    "from sklearn.linear_model import LogisticRegression\n",
    "\n",
    "\n",
    "model = LogisticRegression()\n",
    "model.fit(X_training_bow, ybow_train)\n",
    "predictions_lr_bow = model.predict(Xbow_val)\n",
    "predictions_lr_bow "
   ]
  },
  {
   "cell_type": "code",
   "execution_count": 62,
   "id": "1d036826",
   "metadata": {},
   "outputs": [
    {
     "data": {
      "text/plain": [
       "0.7752100840336135"
      ]
     },
     "execution_count": 62,
     "metadata": {},
     "output_type": "execute_result"
    }
   ],
   "source": [
    "#Accuracy for naive bayes with Bag of words\n",
    "from sklearn.metrics import roc_curve, accuracy_score, confusion_matrix, ConfusionMatrixDisplay\n",
    "fpr, tpr, _ = roc_curve(ybow_val, predictions_nb_bow  , pos_label=1)\n",
    "acc_nb_bow= accuracy_score(ybow_val,predictions_nb_bow )\n",
    "acc_nb_bow"
   ]
  },
  {
   "cell_type": "code",
   "execution_count": 63,
   "id": "cd4ad144",
   "metadata": {},
   "outputs": [
    {
     "data": {
      "text/plain": [
       "0.7710084033613446"
      ]
     },
     "execution_count": 63,
     "metadata": {},
     "output_type": "execute_result"
    }
   ],
   "source": [
    "#Accuracy for logistic regression with Bag of words\n",
    "from sklearn.metrics import roc_curve, accuracy_score, confusion_matrix, ConfusionMatrixDisplay\n",
    "fpr, tpr, _ = roc_curve(ybow_val, predictions_lr_bow , pos_label=1)\n",
    "acc_nb_lr= accuracy_score(ybow_val,predictions_lr_bow  )\n",
    "acc_nb_lr"
   ]
  },
  {
   "cell_type": "code",
   "execution_count": 72,
   "id": "11b97028",
   "metadata": {},
   "outputs": [
    {
     "name": "stdout",
     "output_type": "stream",
     "text": [
      "              precision    recall  f1-score   support\n",
      "\n",
      "           0       0.77      0.87      0.82      1097\n",
      "           1       0.79      0.64      0.71       807\n",
      "\n",
      "    accuracy                           0.78      1904\n",
      "   macro avg       0.78      0.76      0.76      1904\n",
      "weighted avg       0.78      0.78      0.77      1904\n",
      "\n"
     ]
    },
    {
     "data": {
      "image/png": "[encoded data removed]",
      "text/plain": [
       "<Figure size 432x288 with 2 Axes>"
      ]
     },
     "metadata": {
      "needs_background": "light"
     },
     "output_type": "display_data"
    }
   ],
   "source": [
    "from sklearn.metrics import plot_confusion_matrix\n",
    "from sklearn.metrics import classification_report\n",
    "plot_confusion_matrix(naive_bayes, Xbow_val, ybow_val, cmap=\"cividis\")\n",
    "print(classification_report(ybow_val, predictions_nb_bow))"
   ]
  },
  {
   "cell_type": "code",
   "execution_count": 73,
   "id": "d3454a83",
   "metadata": {},
   "outputs": [],
   "source": [
    "tfidf = TfidfVectorizer(ngram_range=(1, 2))\n",
    "X_train_tfidf = tfidf.fit_transform(df_train['text_cleaned']).toarray()"
   ]
  },
  {
   "cell_type": "code",
   "execution_count": 74,
   "id": "54dbadff",
   "metadata": {},
   "outputs": [],
   "source": [
    "X_tf_idf = pd.DataFrame(X_train_tfidf)"
   ]
  },
  {
   "cell_type": "code",
   "execution_count": 75,
   "id": "ed6e70df",
   "metadata": {},
   "outputs": [
    {
     "data": {
      "text/plain": [
       "(7613, 57573)"
      ]
     },
     "execution_count": 75,
     "metadata": {},
     "output_type": "execute_result"
    }
   ],
   "source": [
    "X_features_tfidf = pd.concat([df_train[['word_count', 'char_count', 'sentence_count', 'avg_word_length', 'avg_sentence_lenght']],\n",
    "                        X_tf_idf ], axis=1)\n",
    "\n",
    "# check the shape\n",
    "X_features_tfidf.shape"
   ]
  },
  {
   "cell_type": "code",
   "execution_count": 98,
   "id": "406b12cc",
   "metadata": {},
   "outputs": [],
   "source": [
    "y_features_tfidf = df_train['target']"
   ]
  },
  {
   "cell_type": "code",
   "execution_count": 94,
   "id": "c19fc182",
   "metadata": {},
   "outputs": [
    {
     "data": {
      "text/plain": [
       "(7613,)"
      ]
     },
     "execution_count": 94,
     "metadata": {},
     "output_type": "execute_result"
    }
   ],
   "source": [
    "y_features_tfidf.shape"
   ]
  },
  {
   "cell_type": "code",
   "execution_count": 97,
   "id": "63198c77",
   "metadata": {},
   "outputs": [
    {
     "data": {
      "text/plain": [
       "(1904, 57573)"
      ]
     },
     "execution_count": 97,
     "metadata": {},
     "output_type": "execute_result"
    }
   ],
   "source": [
    "ytrain_fidf.shape"
   ]
  },
  {
   "cell_type": "code",
   "execution_count": 99,
   "id": "a3a0523f",
   "metadata": {},
   "outputs": [],
   "source": [
    "xtrain_tfidf,xtrain_tfidfval,ytrain_fidf,ytfidf_val = train_test_split(X_features_tfidf, y_features_tfidf, shuffle = True, random_state = 123)"
   ]
  },
  {
   "cell_type": "code",
   "execution_count": 100,
   "id": "342ca019",
   "metadata": {},
   "outputs": [
    {
     "data": {
      "text/plain": [
       "array([1, 1, 0, ..., 0, 1, 1], dtype=int64)"
      ]
     },
     "execution_count": 100,
     "metadata": {},
     "output_type": "execute_result"
    }
   ],
   "source": [
    "from sklearn.naive_bayes import MultinomialNB\n",
    "naive_bayestfidf = MultinomialNB()\n",
    "naive_bayestfidf.fit(xtrain_tfidf, ytrain_fidf)\n",
    "predictions_nb_tfidf= naive_bayestfidf.predict(xtrain_tfidfval)\n",
    "predictions_nb_tfidf"
   ]
  },
  {
   "cell_type": "code",
   "execution_count": 101,
   "id": "cc8c63ea",
   "metadata": {},
   "outputs": [
    {
     "data": {
      "text/plain": [
       "0.694327731092437"
      ]
     },
     "execution_count": 101,
     "metadata": {},
     "output_type": "execute_result"
    }
   ],
   "source": [
    "#Accuracy for naive bayes with TF_IDF\n",
    "from sklearn.metrics import roc_curve, accuracy_score, confusion_matrix, ConfusionMatrixDisplay\n",
    "fpr, tpr, _ = roc_curve(ytfidf_val , predictions_nb_tfidf  , pos_label=1)\n",
    "acc_nb_tfidf= accuracy_score(ytfidf_val,predictions_nb_tfidf)\n",
    "acc_nb_tfidf"
   ]
  },
  {
   "cell_type": "code",
   "execution_count": 199,
   "id": "318d3991",
   "metadata": {},
   "outputs": [
    {
     "name": "stdout",
     "output_type": "stream",
     "text": [
      "              precision    recall  f1-score   support\n",
      "\n",
      "           0       0.75      0.71      0.73      1097\n",
      "           1       0.63      0.68      0.65       807\n",
      "\n",
      "    accuracy                           0.69      1904\n",
      "   macro avg       0.69      0.69      0.69      1904\n",
      "weighted avg       0.70      0.69      0.70      1904\n",
      "\n"
     ]
    },
    {
     "data": {
      "image/png": "[encoded data removed]",
      "text/plain": [
       "<Figure size 432x288 with 2 Axes>"
      ]
     },
     "metadata": {
      "needs_background": "light"
     },
     "output_type": "display_data"
    }
   ],
   "source": [
    "from sklearn.metrics import plot_confusion_matrix\n",
    "from sklearn.metrics import classification_report\n",
    "plot_confusion_matrix(naive_bayestfidf, xtrain_tfidfval, ytfidf_val, cmap=\"cividis\")\n",
    "print(classification_report(ytfidf_val ,predictions_nb_tfidf))"
   ]
  },
  {
   "cell_type": "code",
   "execution_count": 106,
   "id": "d891af4f",
   "metadata": {},
   "outputs": [
    {
     "name": "stderr",
     "output_type": "stream",
     "text": [
      "C:\\Users\\gauri\\anaconda3\\lib\\site-packages\\sklearn\\linear_model\\_logistic.py:763: ConvergenceWarning: lbfgs failed to converge (status=1):\n",
      "STOP: TOTAL NO. of ITERATIONS REACHED LIMIT.\n",
      "\n",
      "Increase the number of iterations (max_iter) or scale the data as shown in:\n",
      "    https://scikit-learn.org/stable/modules/preprocessing.html\n",
      "Please also refer to the documentation for alternative solver options:\n",
      "    https://scikit-learn.org/stable/modules/linear_model.html#logistic-regression\n",
      "  n_iter_i = _check_optimize_result(\n"
     ]
    },
    {
     "data": {
      "text/plain": [
       "array([1, 0, 0, ..., 0, 1, 1], dtype=int64)"
      ]
     },
     "execution_count": 106,
     "metadata": {},
     "output_type": "execute_result"
    }
   ],
   "source": [
    "#Accuracy for Logistic Regression  with TF_IDF\n",
    "from sklearn.linear_model import LogisticRegression\n",
    "\n",
    "modeltfidf = LogisticRegression()\n",
    "modeltfidf.fit(xtrain_tfidf, ytrain_fidf)\n",
    "predictions_lr_tfidf= modeltfidf.predict(xtrain_tfidfval)\n",
    "predictions_lr_tfidf"
   ]
  },
  {
   "cell_type": "code",
   "execution_count": 107,
   "id": "3b13c847",
   "metadata": {},
   "outputs": [
    {
     "data": {
      "text/plain": [
       "0.7573529411764706"
      ]
     },
     "execution_count": 107,
     "metadata": {},
     "output_type": "execute_result"
    }
   ],
   "source": [
    "#Accuracy for naive bayes with TF_IDF\n",
    "from sklearn.metrics import roc_curve, accuracy_score, confusion_matrix, ConfusionMatrixDisplay\n",
    "fpr, tpr, _ = roc_curve(ytfidf_val, predictions_lr_tfidf , pos_label=1)\n",
    "acc_lr_tfidf= accuracy_score(ytfidf_val,predictions_lr_tfidf)\n",
    "acc_lr_tfidf"
   ]
  },
  {
   "cell_type": "code",
   "execution_count": null,
   "id": "519a9a31",
   "metadata": {},
   "outputs": [],
   "source": [
    "from sklearn.metrics import plot_confusion_matrix\n",
    "from sklearn.metrics import classification_report\n",
    "plot_confusion_matrix(naive_bayes, Xbow_val, ytfidf_val, cmap=\"cividis\")\n",
    "print(classification_report(ybow_val, predictions_nb_bow))"
   ]
  },
  {
   "cell_type": "code",
   "execution_count": 108,
   "id": "6b0f5a87",
   "metadata": {},
   "outputs": [
    {
     "data": {
      "image/png": "[encoded data removed]",
      "text/plain": [
       "<Figure size 432x288 with 1 Axes>"
      ]
     },
     "metadata": {
      "needs_background": "light"
     },
     "output_type": "display_data"
    }
   ],
   "source": [
    "from sklearn.metrics import roc_curve, accuracy_score, confusion_matrix, ConfusionMatrixDisplay\n",
    "fpr, tpr, _ = roc_curve(ytfidf_val, predictions_lr_tfidf , pos_label=1)\n",
    "import matplotlib.pyplot as plt\n",
    "plt.plot(fpr,tpr)\n",
    "plt.title(\"ROC plot\")\n",
    "plt.ylabel('True Positive Rate')\n",
    "plt.xlabel('False Positive Rate')\n",
    "plt.show()"
   ]
  },
  {
   "cell_type": "code",
   "execution_count": 114,
   "id": "15c67482",
   "metadata": {},
   "outputs": [],
   "source": [
    "df_train['tfidf'] = tfidf"
   ]
  },
  {
   "cell_type": "code",
   "execution_count": 113,
   "id": "002c954b",
   "metadata": {},
   "outputs": [],
   "source": [
    "import numpy as np\n",
    "tfidf= np.array(X_train_tfidf).tolist() #adding back to data frmae for visualisation later while comparing with other embedding"
   ]
  },
  {
   "cell_type": "raw",
   "id": "c6d9a38c",
   "metadata": {},
   "source": []
  },
  {
   "cell_type": "markdown",
   "id": "8e9b93c1",
   "metadata": {},
   "source": [
    "SGDClassifier"
   ]
  },
  {
   "cell_type": "code",
   "execution_count": 116,
   "id": "5110e8d8",
   "metadata": {},
   "outputs": [],
   "source": [
    "import tensorflow_hub as hub"
   ]
  },
  {
   "cell_type": "code",
   "execution_count": 3,
   "id": "c47f19a3",
   "metadata": {},
   "outputs": [],
   "source": [
    "embed = hub.load(\"https://tfhub.dev/google/universal-sentence-encoder-large/5\")"
   ]
  },
  {
   "cell_type": "code",
   "execution_count": 127,
   "id": "ea9c0658",
   "metadata": {},
   "outputs": [],
   "source": [
    "sgdc = SGDClassifier()"
   ]
  },
  {
   "cell_type": "code",
   "execution_count": 129,
   "id": "f9ec05d1",
   "metadata": {},
   "outputs": [],
   "source": [
    "from keras.models import Sequential\n",
    "from keras.layers import Embedding"
   ]
  },
  {
   "cell_type": "code",
   "execution_count": 132,
   "id": "5366bdb8",
   "metadata": {},
   "outputs": [],
   "source": [
    "texts = df_train[\"text_cleaned\"].values\n",
    "labels = df_train[\"target\"].values"
   ]
  },
  {
   "cell_type": "code",
   "execution_count": 155,
   "id": "4fd8cc03",
   "metadata": {},
   "outputs": [],
   "source": [
    "s= sgdc.fit(data,y_train)"
   ]
  },
  {
   "cell_type": "code",
   "execution_count": 4,
   "id": "cdc056fe",
   "metadata": {},
   "outputs": [],
   "source": [
    "#using pregenerated embeddings"
   ]
  },
  {
   "cell_type": "code",
   "execution_count": 139,
   "id": "becc6ea0",
   "metadata": {},
   "outputs": [],
   "source": [
    "\n",
    "from tensorflow.keras.preprocessing.text import Tokenizer\n",
    "tokenizer = Tokenizer()\n",
    "tokenizer.fit_on_texts(texts)\n",
    "sequences = tokenizer.texts_to_sequences(texts)\n",
    "word_index = tokenizer.word_index"
   ]
  },
  {
   "cell_type": "code",
   "execution_count": null,
   "id": "b37931a8",
   "metadata": {},
   "outputs": [],
   "source": [
    "# Creating the padded matrices\n",
    "X_train_NN = tokenizer.texts_to_sequences(X_train)\n",
    "X_train_NN = pad_sequences(string_list, maxlen=m27)"
   ]
  },
  {
   "cell_type": "code",
   "execution_count": 159,
   "id": "553cba5b",
   "metadata": {},
   "outputs": [
    {
     "data": {
      "text/plain": [
       "<tf.Tensor: shape=(7613, 512), dtype=float32, numpy=\n",
       "array([[ 0.04173129,  0.01469113,  0.01474294, ...,  0.0411029 ,\n",
       "         0.01181808, -0.05976298],\n",
       "       [-0.04819873,  0.03537264,  0.04102627, ..., -0.01832361,\n",
       "         0.00689633, -0.03856334],\n",
       "       [ 0.01636763,  0.11777475, -0.04635794, ..., -0.06428417,\n",
       "         0.05406549, -0.05619039],\n",
       "       ...,\n",
       "       [-0.06729391, -0.01303099, -0.00792565, ...,  0.03055793,\n",
       "        -0.00033558,  0.02292108],\n",
       "       [ 0.04344312, -0.03780692,  0.08376308, ..., -0.04751174,\n",
       "        -0.10073172,  0.05825363],\n",
       "       [ 0.00454183, -0.04868893, -0.04563379, ...,  0.02823377,\n",
       "         0.0071596 , -0.00343935]], dtype=float32)>"
      ]
     },
     "execution_count": 159,
     "metadata": {},
     "output_type": "execute_result"
    }
   ],
   "source": [
    "embeddings"
   ]
  },
  {
   "cell_type": "code",
   "execution_count": 160,
   "id": "f25affa5",
   "metadata": {},
   "outputs": [
    {
     "data": {
      "text/plain": [
       "(7613, 27)"
      ]
     },
     "execution_count": 160,
     "metadata": {},
     "output_type": "execute_result"
    }
   ],
   "source": [
    "data.shape"
   ]
  },
  {
   "cell_type": "code",
   "execution_count": 156,
   "id": "5e3afa42",
   "metadata": {},
   "outputs": [
    {
     "name": "stdout",
     "output_type": "stream",
     "text": [
      "[[0 0 0 ... 0 0 0]\n",
      " [0 0 0 ... 0 0 0]\n",
      " [0 0 0 ... 0 0 0]\n",
      " ...\n",
      " [0 0 0 ... 0 0 0]\n",
      " [0 0 0 ... 0 0 0]\n",
      " [0 0 0 ... 0 0 0]]\n"
     ]
    }
   ],
   "source": [
    "from tensorflow.keras.preprocessing.sequence import pad_sequences\n",
    "sent_length=27\n",
    "embedded_docs=pad_sequences(embeddings,padding='pre',maxlen=sent_length)\n",
    "print(embedded_docs)"
   ]
  },
  {
   "cell_type": "code",
   "execution_count": 133,
   "id": "b99c7572",
   "metadata": {},
   "outputs": [],
   "source": [
    "# Getting the biggest sentence\n",
    "max_len = np.max([len(text.split()) for text in texts])"
   ]
  },
  {
   "cell_type": "code",
   "execution_count": 134,
   "id": "752f7ed7",
   "metadata": {},
   "outputs": [
    {
     "data": {
      "text/plain": [
       "27"
      ]
     },
     "execution_count": 134,
     "metadata": {},
     "output_type": "execute_result"
    }
   ],
   "source": [
    "max_len"
   ]
  },
  {
   "cell_type": "code",
   "execution_count": 157,
   "id": "fb3afcd4",
   "metadata": {},
   "outputs": [
    {
     "data": {
      "text/plain": [
       "(7613, 27)"
      ]
     },
     "execution_count": 157,
     "metadata": {},
     "output_type": "execute_result"
    }
   ],
   "source": [
    "embedded_docs.shape"
   ]
  },
  {
   "cell_type": "code",
   "execution_count": 158,
   "id": "6d8d00a3",
   "metadata": {},
   "outputs": [
    {
     "data": {
      "text/plain": [
       "array([[0, 0, 0, ..., 0, 0, 0],\n",
       "       [0, 0, 0, ..., 0, 0, 0],\n",
       "       [0, 0, 0, ..., 0, 0, 0],\n",
       "       ...,\n",
       "       [0, 0, 0, ..., 0, 0, 0],\n",
       "       [0, 0, 0, ..., 0, 0, 0],\n",
       "       [0, 0, 0, ..., 0, 0, 0]])"
      ]
     },
     "execution_count": 158,
     "metadata": {},
     "output_type": "execute_result"
    }
   ],
   "source": [
    "embedded_docs"
   ]
  },
  {
   "cell_type": "code",
   "execution_count": 117,
   "id": "162e0182",
   "metadata": {},
   "outputs": [
    {
     "data": {
      "text/html": [
       "<div>\n",
       "<style scoped>\n",
       "    .dataframe tbody tr th:only-of-type {\n",
       "        vertical-align: middle;\n",
       "    }\n",
       "\n",
       "    .dataframe tbody tr th {\n",
       "        vertical-align: top;\n",
       "    }\n",
       "\n",
       "    .dataframe thead th {\n",
       "        text-align: right;\n",
       "    }\n",
       "</style>\n",
       "<table border=\"1\" class=\"dataframe\">\n",
       "  <thead>\n",
       "    <tr style=\"text-align: right;\">\n",
       "      <th></th>\n",
       "      <th>id</th>\n",
       "      <th>keyword</th>\n",
       "      <th>location</th>\n",
       "      <th>text</th>\n",
       "      <th>target</th>\n",
       "      <th>text_cleaned</th>\n",
       "      <th>propn_count</th>\n",
       "      <th>hash_count</th>\n",
       "      <th>word_count</th>\n",
       "      <th>char_count</th>\n",
       "      <th>sentence_count</th>\n",
       "      <th>avg_word_length</th>\n",
       "      <th>avg_sentence_lenght</th>\n",
       "      <th>bow</th>\n",
       "      <th>tfidf</th>\n",
       "      <th>use</th>\n",
       "    </tr>\n",
       "  </thead>\n",
       "  <tbody>\n",
       "    <tr>\n",
       "      <th>0</th>\n",
       "      <td>1</td>\n",
       "      <td>NaN</td>\n",
       "      <td>NaN</td>\n",
       "      <td>Our Deeds are the Reason of this #earthquake May ALLAH Forgive us all</td>\n",
       "      <td>1</td>\n",
       "      <td>deed reason earthquake may allah forgive u</td>\n",
       "      <td>2</td>\n",
       "      <td>0</td>\n",
       "      <td>7</td>\n",
       "      <td>36</td>\n",
       "      <td>1</td>\n",
       "      <td>5.142857</td>\n",
       "      <td>7.0</td>\n",
       "      <td>0</td>\n",
       "      <td>[0.0, 0.0, 0.0, 0.0, 0.0, 0.0, 0.0, 0.0, 0.0, 0.0, 0.0, 0.0, 0.0, 0.0, 0.0, 0.0, 0.0, 0.0, 0.0, 0.0, 0.0, 0.0, 0.0, 0.0, 0.0, 0.0, 0.0, 0.0, 0.0, 0.0, 0.0, 0.0, 0.0, 0.0, 0.0, 0.0, 0.0, 0.0, 0.0, 0.0, 0.0, 0.0, 0.0, 0.0, 0.0, 0.0, 0.0, 0.0, 0.0, 0.0, 0.0, 0.0, 0.0, 0.0, 0.0, 0.0, 0.0, 0.0, 0.0, 0.0, 0.0, 0.0, 0.0, 0.0, 0.0, 0.0, 0.0, 0.0, 0.0, 0.0, 0.0, 0.0, 0.0, 0.0, 0.0, 0.0, 0.0, 0.0, 0.0, 0.0, 0.0, 0.0, 0.0, 0.0, 0.0, 0.0, 0.0, 0.0, 0.0, 0.0, 0.0, 0.0, 0.0, 0.0, 0.0, 0.0, 0.0, 0.0, 0.0, 0.0, ...]</td>\n",
       "      <td>[0.04173129424452782, 0.014691133052110672, 0.014742943458259106, 0.00014843023382127285, 0.01664271019399166, 0.060971036553382874, -0.005715968087315559, -0.00391097366809845, 0.05569937080144882, -0.04424015060067177, -0.014046456664800644, -0.05214720964431763, -0.03148631379008293, 0.03816511854529381, -0.010909777134656906, 0.02924763225018978, -0.016518834978342056, -0.00949771050363779, 0.0012615711893886328, 0.08367155492305756, -0.06954385340213776, 0.020307108759880066, 0.031118502840399742, -0.02226848341524601, -0.052782636135816574, 0.0005368782440200448, 0.01702134497463703, -0.05065445601940155, -0.01922469213604927, -0.0054688421078026295, 0.04065856710076332, 0.017141496762633324, 0.028197241947054863, 0.036709874868392944, 0.025264447554945946, -0.0816977396607399, -0.08968175947666168, 0.03292616084218025, 0.09835480898618698, 0.02405349165201187, 0.01391327939927578, -0.05747074633836746, -0.0503300204873085, 0.04606977850198746, 0.0003929093654733151, 0.05200149491429329, -0.009985066018998623, -0.017724813893437386, 0.038443341851234436, 0.06587717682123184, 0.019087180495262146, -0.07742985337972641, -0.023956015706062317, -0.02666575275361538, -0.05962643027305603, -0.11891119182109833, -0.010921160690486431, 0.021534768864512444, -0.03082052804529667, 0.01588505692780018, 0.05604758486151695, -0.09095675498247147, 0.0471099317073822, 0.03420497849583626, 0.004859244450926781, 0.062363263219594955, -0.014286108314990997, 0.04865961894392967, 0.006742091383785009, -0.059211719781160355, -0.04678553715348244, -0.05281639099121094, 0.010117131285369396, 0.0015492606908082962, -0.04205561801791191, -0.06555373966693878, 0.034932300448417664, 0.056557901203632355, 0.04008593037724495, -0.021560506895184517, -0.049463316798210144, 0.06546207517385483, 0.01301849726587534, -0.010070119984447956, -0.01477575208991766, -0.0411827452480793, -0.02612422965466976, -0.03506220877170563, -0.03825930505990982, 0.049254681915044785, -0.0012498849537223577, -0.02245538868010044, -0.057037219405174255, -0.020337209105491638, -0.03075486794114113, -0.09315773099660873, 0.0035522582475095987, -0.005962015595287085, 0.020940082147717476, 0.023737717419862747, ...]</td>\n",
       "    </tr>\n",
       "    <tr>\n",
       "      <th>1</th>\n",
       "      <td>4</td>\n",
       "      <td>NaN</td>\n",
       "      <td>NaN</td>\n",
       "      <td>Forest fire near La Ronge Sask. Canada</td>\n",
       "      <td>1</td>\n",
       "      <td>canada</td>\n",
       "      <td>1</td>\n",
       "      <td>0</td>\n",
       "      <td>1</td>\n",
       "      <td>6</td>\n",
       "      <td>1</td>\n",
       "      <td>6.000000</td>\n",
       "      <td>1.0</td>\n",
       "      <td>0</td>\n",
       "      <td>[0.0, 0.0, 0.0, 0.0, 0.0, 0.0, 0.0, 0.0, 0.0, 0.0, 0.0, 0.0, 0.0, 0.0, 0.0, 0.0, 0.0, 0.0, 0.0, 0.0, 0.0, 0.0, 0.0, 0.0, 0.0, 0.0, 0.0, 0.0, 0.0, 0.0, 0.0, 0.0, 0.0, 0.0, 0.0, 0.0, 0.0, 0.0, 0.0, 0.0, 0.0, 0.0, 0.0, 0.0, 0.0, 0.0, 0.0, 0.0, 0.0, 0.0, 0.0, 0.0, 0.0, 0.0, 0.0, 0.0, 0.0, 0.0, 0.0, 0.0, 0.0, 0.0, 0.0, 0.0, 0.0, 0.0, 0.0, 0.0, 0.0, 0.0, 0.0, 0.0, 0.0, 0.0, 0.0, 0.0, 0.0, 0.0, 0.0, 0.0, 0.0, 0.0, 0.0, 0.0, 0.0, 0.0, 0.0, 0.0, 0.0, 0.0, 0.0, 0.0, 0.0, 0.0, 0.0, 0.0, 0.0, 0.0, 0.0, 0.0, ...]</td>\n",
       "      <td>[-0.04819872975349426, 0.03537263721227646, 0.041026271879673004, -0.05251848325133324, -0.03446517139673233, 0.02714850753545761, -0.028287161141633987, -0.016752593219280243, 0.03155357763171196, -0.08854994922876358, 0.056054435670375824, -0.04894682765007019, 0.07626216113567352, -0.13116508722305298, -0.015373949892818928, -0.020185234025120735, -0.052291348576545715, -0.020180266350507736, 0.0562506802380085, -0.00767866987735033, 0.005024878308176994, 0.03956848010420799, -0.0477205365896225, -0.013485603965818882, 0.026667840778827667, 0.000671057146973908, 0.05870003253221512, 0.011868694797158241, -0.06973810493946075, -0.05615466833114624, 0.02518460527062416, -0.02078293263912201, -0.028115704655647278, 0.0362265519797802, 0.02103293128311634, -0.010631018318235874, -0.09366657584905624, -0.024004396051168442, 0.03344491869211197, -0.0078421114012599, -0.02748127654194832, 0.05377119407057762, 0.004068771377205849, 0.0680382177233696, 0.018922820687294006, 0.042822375893592834, 0.04123536869883537, -0.02834954299032688, 0.07623565196990967, -0.07708099484443665, 0.02551988884806633, -0.00882397498935461, -0.008062602952122688, -0.03415348380804062, 0.020603854209184647, -0.03599578142166138, -0.009948919527232647, 0.08145444840192795, -0.004427941516041756, 0.01627207174897194, -0.030318887904286385, 0.014479661360383034, -0.037887148559093475, -0.05523497238755226, -0.0328204520046711, 0.009423083625733852, 0.00748820137232542, 0.032702911645174026, 0.0482417568564415, 0.009695190005004406, 0.04682929813861847, 0.0051846615970134735, 0.021114354953169823, 0.0017768791876733303, 0.09913251549005508, 0.0427980050444603, -0.0124697620049119, -0.03827940672636032, -0.12457472085952759, 0.02554558776319027, -0.02913312055170536, -0.09487273544073105, 0.07677993178367615, 0.0539943128824234, -0.059049248695373535, -0.08533867448568344, -0.012859202921390533, -0.006390589289367199, 0.029488157480955124, 0.06459571421146393, -0.027154261246323586, -0.0072681657038629055, 0.03870600834488869, 0.05642709881067276, -0.06449759006500244, -0.028735073283314705, -0.019412415102124214, 0.015169467777013779, 0.006667133420705795, -0.06782173365354538, ...]</td>\n",
       "    </tr>\n",
       "  </tbody>\n",
       "</table>\n",
       "</div>"
      ],
      "text/plain": [
       "   id keyword location  \\\n",
       "0  1   NaN     NaN       \n",
       "1  4   NaN     NaN       \n",
       "\n",
       "                                                                    text  \\\n",
       "0  Our Deeds are the Reason of this #earthquake May ALLAH Forgive us all   \n",
       "1  Forest fire near La Ronge Sask. Canada                                  \n",
       "\n",
       "   target                                text_cleaned  propn_count  \\\n",
       "0  1       deed reason earthquake may allah forgive u  2             \n",
       "1  1       canada                                      1             \n",
       "\n",
       "   hash_count  word_count  char_count  sentence_count  avg_word_length  \\\n",
       "0  0           7           36          1               5.142857          \n",
       "1  0           1           6           1               6.000000          \n",
       "\n",
       "   avg_sentence_lenght  bow  \\\n",
       "0  7.0                  0     \n",
       "1  1.0                  0     \n",
       "\n",
       "                                                                                                                                                                                                                                                                                                                                                                                                                                                                                                                       tfidf  \\\n",
       "0  [0.0, 0.0, 0.0, 0.0, 0.0, 0.0, 0.0, 0.0, 0.0, 0.0, 0.0, 0.0, 0.0, 0.0, 0.0, 0.0, 0.0, 0.0, 0.0, 0.0, 0.0, 0.0, 0.0, 0.0, 0.0, 0.0, 0.0, 0.0, 0.0, 0.0, 0.0, 0.0, 0.0, 0.0, 0.0, 0.0, 0.0, 0.0, 0.0, 0.0, 0.0, 0.0, 0.0, 0.0, 0.0, 0.0, 0.0, 0.0, 0.0, 0.0, 0.0, 0.0, 0.0, 0.0, 0.0, 0.0, 0.0, 0.0, 0.0, 0.0, 0.0, 0.0, 0.0, 0.0, 0.0, 0.0, 0.0, 0.0, 0.0, 0.0, 0.0, 0.0, 0.0, 0.0, 0.0, 0.0, 0.0, 0.0, 0.0, 0.0, 0.0, 0.0, 0.0, 0.0, 0.0, 0.0, 0.0, 0.0, 0.0, 0.0, 0.0, 0.0, 0.0, 0.0, 0.0, 0.0, 0.0, 0.0, 0.0, 0.0, ...]   \n",
       "1  [0.0, 0.0, 0.0, 0.0, 0.0, 0.0, 0.0, 0.0, 0.0, 0.0, 0.0, 0.0, 0.0, 0.0, 0.0, 0.0, 0.0, 0.0, 0.0, 0.0, 0.0, 0.0, 0.0, 0.0, 0.0, 0.0, 0.0, 0.0, 0.0, 0.0, 0.0, 0.0, 0.0, 0.0, 0.0, 0.0, 0.0, 0.0, 0.0, 0.0, 0.0, 0.0, 0.0, 0.0, 0.0, 0.0, 0.0, 0.0, 0.0, 0.0, 0.0, 0.0, 0.0, 0.0, 0.0, 0.0, 0.0, 0.0, 0.0, 0.0, 0.0, 0.0, 0.0, 0.0, 0.0, 0.0, 0.0, 0.0, 0.0, 0.0, 0.0, 0.0, 0.0, 0.0, 0.0, 0.0, 0.0, 0.0, 0.0, 0.0, 0.0, 0.0, 0.0, 0.0, 0.0, 0.0, 0.0, 0.0, 0.0, 0.0, 0.0, 0.0, 0.0, 0.0, 0.0, 0.0, 0.0, 0.0, 0.0, 0.0, ...]   \n",
       "\n",
       "                                                                                                                                                                                                                                                                                                                                                                                                                                                                                                                                                                                                                                                                                                                                                                                                                                                                                                                                                                                                                                                                                                                                                                                                                                                                                                                                                                                                                                                                                                                                                                                                                                                                                                                                                                                                                                                                                                                                                                                                                                                                                                                                                                                                                                                                                              use  \n",
       "0  [0.04173129424452782, 0.014691133052110672, 0.014742943458259106, 0.00014843023382127285, 0.01664271019399166, 0.060971036553382874, -0.005715968087315559, -0.00391097366809845, 0.05569937080144882, -0.04424015060067177, -0.014046456664800644, -0.05214720964431763, -0.03148631379008293, 0.03816511854529381, -0.010909777134656906, 0.02924763225018978, -0.016518834978342056, -0.00949771050363779, 0.0012615711893886328, 0.08367155492305756, -0.06954385340213776, 0.020307108759880066, 0.031118502840399742, -0.02226848341524601, -0.052782636135816574, 0.0005368782440200448, 0.01702134497463703, -0.05065445601940155, -0.01922469213604927, -0.0054688421078026295, 0.04065856710076332, 0.017141496762633324, 0.028197241947054863, 0.036709874868392944, 0.025264447554945946, -0.0816977396607399, -0.08968175947666168, 0.03292616084218025, 0.09835480898618698, 0.02405349165201187, 0.01391327939927578, -0.05747074633836746, -0.0503300204873085, 0.04606977850198746, 0.0003929093654733151, 0.05200149491429329, -0.009985066018998623, -0.017724813893437386, 0.038443341851234436, 0.06587717682123184, 0.019087180495262146, -0.07742985337972641, -0.023956015706062317, -0.02666575275361538, -0.05962643027305603, -0.11891119182109833, -0.010921160690486431, 0.021534768864512444, -0.03082052804529667, 0.01588505692780018, 0.05604758486151695, -0.09095675498247147, 0.0471099317073822, 0.03420497849583626, 0.004859244450926781, 0.062363263219594955, -0.014286108314990997, 0.04865961894392967, 0.006742091383785009, -0.059211719781160355, -0.04678553715348244, -0.05281639099121094, 0.010117131285369396, 0.0015492606908082962, -0.04205561801791191, -0.06555373966693878, 0.034932300448417664, 0.056557901203632355, 0.04008593037724495, -0.021560506895184517, -0.049463316798210144, 0.06546207517385483, 0.01301849726587534, -0.010070119984447956, -0.01477575208991766, -0.0411827452480793, -0.02612422965466976, -0.03506220877170563, -0.03825930505990982, 0.049254681915044785, -0.0012498849537223577, -0.02245538868010044, -0.057037219405174255, -0.020337209105491638, -0.03075486794114113, -0.09315773099660873, 0.0035522582475095987, -0.005962015595287085, 0.020940082147717476, 0.023737717419862747, ...]  \n",
       "1  [-0.04819872975349426, 0.03537263721227646, 0.041026271879673004, -0.05251848325133324, -0.03446517139673233, 0.02714850753545761, -0.028287161141633987, -0.016752593219280243, 0.03155357763171196, -0.08854994922876358, 0.056054435670375824, -0.04894682765007019, 0.07626216113567352, -0.13116508722305298, -0.015373949892818928, -0.020185234025120735, -0.052291348576545715, -0.020180266350507736, 0.0562506802380085, -0.00767866987735033, 0.005024878308176994, 0.03956848010420799, -0.0477205365896225, -0.013485603965818882, 0.026667840778827667, 0.000671057146973908, 0.05870003253221512, 0.011868694797158241, -0.06973810493946075, -0.05615466833114624, 0.02518460527062416, -0.02078293263912201, -0.028115704655647278, 0.0362265519797802, 0.02103293128311634, -0.010631018318235874, -0.09366657584905624, -0.024004396051168442, 0.03344491869211197, -0.0078421114012599, -0.02748127654194832, 0.05377119407057762, 0.004068771377205849, 0.0680382177233696, 0.018922820687294006, 0.042822375893592834, 0.04123536869883537, -0.02834954299032688, 0.07623565196990967, -0.07708099484443665, 0.02551988884806633, -0.00882397498935461, -0.008062602952122688, -0.03415348380804062, 0.020603854209184647, -0.03599578142166138, -0.009948919527232647, 0.08145444840192795, -0.004427941516041756, 0.01627207174897194, -0.030318887904286385, 0.014479661360383034, -0.037887148559093475, -0.05523497238755226, -0.0328204520046711, 0.009423083625733852, 0.00748820137232542, 0.032702911645174026, 0.0482417568564415, 0.009695190005004406, 0.04682929813861847, 0.0051846615970134735, 0.021114354953169823, 0.0017768791876733303, 0.09913251549005508, 0.0427980050444603, -0.0124697620049119, -0.03827940672636032, -0.12457472085952759, 0.02554558776319027, -0.02913312055170536, -0.09487273544073105, 0.07677993178367615, 0.0539943128824234, -0.059049248695373535, -0.08533867448568344, -0.012859202921390533, -0.006390589289367199, 0.029488157480955124, 0.06459571421146393, -0.027154261246323586, -0.0072681657038629055, 0.03870600834488869, 0.05642709881067276, -0.06449759006500244, -0.028735073283314705, -0.019412415102124214, 0.015169467777013779, 0.006667133420705795, -0.06782173365354538, ...]                 "
      ]
     },
     "execution_count": 117,
     "metadata": {},
     "output_type": "execute_result"
    }
   ],
   "source": [
    "#generate embeddings\n",
    "embeddings = embed(df_train[\"text_cleaned\"])\n",
    "#create list from np arrays\n",
    "use= np.array(embeddings).tolist()\n",
    "#add lists as dataframe column\n",
    "df_train['use'] = use\n",
    "#check dataframe\n",
    "df_train.head(2)"
   ]
  },
  {
   "cell_type": "code",
   "execution_count": null,
   "id": "901f9a41",
   "metadata": {},
   "outputs": [],
   "source": [
    "voc_size=10000"
   ]
  },
  {
   "cell_type": "code",
   "execution_count": null,
   "id": "4acdc4b3",
   "metadata": {},
   "outputs": [],
   "source": []
  },
  {
   "cell_type": "code",
   "execution_count": null,
   "id": "511cbac4",
   "metadata": {},
   "outputs": [],
   "source": [
    "f = open(r'C:\\Users\\gauri\\gensim-data\\glove-wiki-gigaword-300\\glove-wiki-gigaword-300.txt',encoding='utf-8')"
   ]
  },
  {
   "cell_type": "code",
   "execution_count": null,
   "id": "4018909c",
   "metadata": {},
   "outputs": [],
   "source": [
    "for line in f:\n",
    "    values = line.split()\n",
    "    word = values[0]\n",
    "    coefs = np.asarray(values[1:], dtype='float32')\n",
    "    embeddings_index[word] = coefs\n",
    "\n",
    "f.close()\n",
    "print('Loaded %s word vectors.' % len(embeddings_index))\n"
   ]
  },
  {
   "cell_type": "code",
   "execution_count": 118,
   "id": "42f8cd19",
   "metadata": {},
   "outputs": [],
   "source": [
    "from sklearn.linear_model import SGDClassifier"
   ]
  },
  {
   "cell_type": "code",
   "execution_count": 119,
   "id": "1ddcf6d4",
   "metadata": {},
   "outputs": [],
   "source": [
    "y_train  = df_train['target']"
   ]
  },
  {
   "cell_type": "code",
   "execution_count": 184,
   "id": "8293e459",
   "metadata": {},
   "outputs": [
    {
     "data": {
      "text/plain": [
       "(7613, 32)"
      ]
     },
     "execution_count": 184,
     "metadata": {},
     "output_type": "execute_result"
    }
   ],
   "source": [
    "X_features_embed.shape"
   ]
  },
  {
   "cell_type": "code",
   "execution_count": null,
   "id": "2554f44c",
   "metadata": {},
   "outputs": [],
   "source": [
    "X_features_embed= pd.concat([df_train[['word_count', 'char_count', 'sentence_count', 'avg_word_length', 'avg_sentence_lenght']],\n",
    "                        X_embed ], axis=1)\n",
    "\n",
    "# check the shape\n",
    "X_features_embed.shape"
   ]
  },
  {
   "cell_type": "code",
   "execution_count": 185,
   "id": "ea8a20fa",
   "metadata": {},
   "outputs": [],
   "source": [
    "xtrain_emb, xval_emb, ytrain_emb, yval_emb = train_test_split(X_features_embed, y_train, test_size = 0.15)\n"
   ]
  },
  {
   "cell_type": "code",
   "execution_count": 186,
   "id": "5917fc07",
   "metadata": {},
   "outputs": [],
   "source": [
    "sgdclassifieremb = SGDClassifier()"
   ]
  },
  {
   "cell_type": "code",
   "execution_count": 187,
   "id": "3cd9d466",
   "metadata": {},
   "outputs": [
    {
     "data": {
      "text/plain": [
       "SGDClassifier()"
      ]
     },
     "execution_count": 187,
     "metadata": {},
     "output_type": "execute_result"
    }
   ],
   "source": [
    "sgdclassifieremb.fit(xtrain_emb,ytrain_emb)"
   ]
  },
  {
   "cell_type": "code",
   "execution_count": 188,
   "id": "4928b92f",
   "metadata": {},
   "outputs": [
    {
     "name": "stdout",
     "output_type": "stream",
     "text": [
      "Score:  0.5013135527739144\n",
      "              precision    recall  f1-score   support\n",
      "\n",
      "           0       0.82      0.20      0.32       668\n",
      "           1       0.45      0.94      0.61       474\n",
      "\n",
      "    accuracy                           0.51      1142\n",
      "   macro avg       0.64      0.57      0.47      1142\n",
      "weighted avg       0.67      0.51      0.44      1142\n",
      "\n"
     ]
    }
   ],
   "source": [
    "score = sgdclassifieremb.score(xtrain_emb, ytrain_emb)\n",
    "print(\"Score: \", score)\n",
    "\n",
    "ypredemb = sgdclassifieremb.predict(xval_emb)\n",
    "\n",
    "\n",
    "cr = classification_report(yval_emb, ypredemb)\n",
    "print(cr) \n",
    "\n"
   ]
  },
  {
   "cell_type": "code",
   "execution_count": 197,
   "id": "f3e461c3",
   "metadata": {},
   "outputs": [
    {
     "name": "stdout",
     "output_type": "stream",
     "text": [
      "              precision    recall  f1-score   support\n",
      "\n",
      "           0       0.82      0.20      0.32       668\n",
      "           1       0.45      0.94      0.61       474\n",
      "\n",
      "    accuracy                           0.51      1142\n",
      "   macro avg       0.64      0.57      0.47      1142\n",
      "weighted avg       0.67      0.51      0.44      1142\n",
      "\n"
     ]
    },
    {
     "data": {
      "image/png": "[encoded data removed]",
      "text/plain": [
       "<Figure size 432x288 with 2 Axes>"
      ]
     },
     "metadata": {
      "needs_background": "light"
     },
     "output_type": "display_data"
    }
   ],
   "source": [
    "from sklearn.metrics import plot_confusion_matrix\n",
    "from sklearn.metrics import classification_report\n",
    "plot_confusion_matrix(sgdclassifieremb, xval_emb, yval_emb, cmap=\"cividis\")\n",
    "print(classification_report(yval_emb, ypredemb))"
   ]
  },
  {
   "cell_type": "code",
   "execution_count": 172,
   "id": "d9079b4d",
   "metadata": {},
   "outputs": [
    {
     "name": "stdout",
     "output_type": "stream",
     "text": [
      "Score:  0.570081903878844\n",
      "              precision    recall  f1-score   support\n",
      "\n",
      "           0       0.57      1.00      0.73       653\n",
      "           1       0.00      0.00      0.00       489\n",
      "\n",
      "    accuracy                           0.57      1142\n",
      "   macro avg       0.29      0.50      0.36      1142\n",
      "weighted avg       0.33      0.57      0.42      1142\n",
      "\n"
     ]
    },
    {
     "name": "stderr",
     "output_type": "stream",
     "text": [
      "C:\\Users\\gauri\\anaconda3\\lib\\site-packages\\sklearn\\metrics\\_classification.py:1248: UndefinedMetricWarning: Precision and F-score are ill-defined and being set to 0.0 in labels with no predicted samples. Use `zero_division` parameter to control this behavior.\n",
      "  _warn_prf(average, modifier, msg_start, len(result))\n",
      "C:\\Users\\gauri\\anaconda3\\lib\\site-packages\\sklearn\\metrics\\_classification.py:1248: UndefinedMetricWarning: Precision and F-score are ill-defined and being set to 0.0 in labels with no predicted samples. Use `zero_division` parameter to control this behavior.\n",
      "  _warn_prf(average, modifier, msg_start, len(result))\n",
      "C:\\Users\\gauri\\anaconda3\\lib\\site-packages\\sklearn\\metrics\\_classification.py:1248: UndefinedMetricWarning: Precision and F-score are ill-defined and being set to 0.0 in labels with no predicted samples. Use `zero_division` parameter to control this behavior.\n",
      "  _warn_prf(average, modifier, msg_start, len(result))\n"
     ]
    }
   ],
   "source": [
    "score = sgdclassifier.score(xtrain_embed1, ytrain_embed1)\n",
    "print(\"Score: \", score)\n",
    "\n",
    "ypred1 = sgdclassifier.predict(xval_embed1)\n",
    "\n",
    "\n",
    "cr = classification_report(yval_embed1, ypred1)\n",
    "print(cr) \n"
   ]
  },
  {
   "cell_type": "code",
   "execution_count": 168,
   "id": "74086305",
   "metadata": {},
   "outputs": [
    {
     "data": {
      "text/plain": [
       "0.5166374781085814"
      ]
     },
     "execution_count": 168,
     "metadata": {},
     "output_type": "execute_result"
    }
   ],
   "source": [
    "from sklearn.metrics import roc_curve, accuracy_score, confusion_matrix, ConfusionMatrixDisplay\n",
    "\n",
    "acc_nb_lr= accuracy_score(yval_embed,ypred )\n",
    "acc_nb_lr"
   ]
  },
  {
   "cell_type": "code",
   "execution_count": 123,
   "id": "a9659476",
   "metadata": {},
   "outputs": [
    {
     "data": {
      "text/plain": [
       "(6471,)"
      ]
     },
     "execution_count": 123,
     "metadata": {},
     "output_type": "execute_result"
    }
   ],
   "source": [
    "ytrain_embed.shape"
   ]
  },
  {
   "cell_type": "code",
   "execution_count": null,
   "id": "7d0b138c",
   "metadata": {},
   "outputs": [],
   "source": [
    "ypred = sgdc.predict(xval_embed)\n",
    "\n",
    "cm = confusion_matrix(ytrain_embed, yval_embed)\n",
    "print(cm) "
   ]
  },
  {
   "cell_type": "code",
   "execution_count": null,
   "id": "32abfc9b",
   "metadata": {},
   "outputs": [],
   "source": [
    "cr = classification_report(ytest, ypred)\n",
    "print(cr)\n"
   ]
  },
  {
   "cell_type": "code",
   "execution_count": 35,
   "id": "07261c1e",
   "metadata": {},
   "outputs": [],
   "source": [
    "import spacy"
   ]
  },
  {
   "cell_type": "code",
   "execution_count": 24,
   "id": "e7de45c6",
   "metadata": {},
   "outputs": [],
   "source": [
    "import numpy as np\n",
    "from sklearn.linear_model import SGDClassifier\n",
    "from sklearn.base import BaseEstimator, TransformerMixin\n",
    "\n",
    "class WordVectorTransformer(TransformerMixin,BaseEstimator):\n",
    "    def __init__(self, model=\"en_core_web_lg\"):\n",
    "        self.model = model\n",
    "\n",
    "    def fit(self,X,y=None):\n",
    "        return self\n",
    "\n",
    "    def transform(self,X):\n",
    "        nlp = spacy.load(self.model)\n",
    "        return np.concatenate([nlp(doc).vector.reshape(1,-1) for doc in X])"
   ]
  },
  {
   "cell_type": "code",
   "execution_count": 25,
   "id": "5d376593",
   "metadata": {},
   "outputs": [],
   "source": [
    "sgdc = SGDClassifier()"
   ]
  },
  {
   "cell_type": "code",
   "execution_count": 33,
   "id": "2dbef252",
   "metadata": {},
   "outputs": [],
   "source": [
    "y_train = df_train[\"target\"]"
   ]
  },
  {
   "cell_type": "code",
   "execution_count": 42,
   "id": "8a3e43ad",
   "metadata": {},
   "outputs": [],
   "source": [
    "import spacy\n",
    "ner = spacy.load(\"en_core_web_lg\")\n",
    "## tag text\n",
    "#txt = df_train['text_cleaned'].iloc[0]\n",
    "#doc = ner(txt)\n",
    "## display result\n",
    "#spacy.displacy.render(doc, style=\"ent\")"
   ]
  },
  {
   "cell_type": "code",
   "execution_count": 131,
   "id": "6b0979df",
   "metadata": {},
   "outputs": [],
   "source": [
    "texts = df_train[\"text_cleaned\"].values\n",
    "labels = df_train[\"target\"].values"
   ]
  },
  {
   "cell_type": "code",
   "execution_count": 73,
   "id": "e63cc082",
   "metadata": {},
   "outputs": [],
   "source": [
    "tokenizer.fit_on_texts(texts)\n",
    "sequences = tokenizer.texts_to_sequences(texts)\n",
    "word_index = tokenizer.word_index"
   ]
  },
  {
   "cell_type": "code",
   "execution_count": 147,
   "id": "944dabe5",
   "metadata": {},
   "outputs": [],
   "source": [
    "max_num_words = 1000\n",
    "max_seq_length = 27"
   ]
  },
  {
   "cell_type": "code",
   "execution_count": 148,
   "id": "6abbd28c",
   "metadata": {},
   "outputs": [
    {
     "data": {
      "text/plain": [
       "array([[    0,     0,     0, ...,  2665,  5239,     3],\n",
       "       [    0,     0,     0, ...,     0,     0,   849],\n",
       "       [    0,     0,     0, ...,   652,   404,   967],\n",
       "       ...,\n",
       "       [    0,     0,     0, ...,     1,  5206,  5207],\n",
       "       [    0,     0,     0, ...,    40,  2013,    90],\n",
       "       [    0,     0,     0, ...,     1, 17619, 17620]])"
      ]
     },
     "execution_count": 148,
     "metadata": {},
     "output_type": "execute_result"
    }
   ],
   "source": [
    "from tensorflow.keras.preprocessing.sequence import pad_sequences\n",
    "data = pad_sequences(sequences, maxlen=max_seq_length)\n",
    "data"
   ]
  },
  {
   "cell_type": "code",
   "execution_count": 75,
   "id": "092e41d8",
   "metadata": {},
   "outputs": [
    {
     "data": {
      "text/plain": [
       "17620"
      ]
     },
     "execution_count": 75,
     "metadata": {},
     "output_type": "execute_result"
    }
   ],
   "source": [
    "len(word_index) "
   ]
  },
  {
   "cell_type": "code",
   "execution_count": 143,
   "id": "fd5f0680",
   "metadata": {},
   "outputs": [],
   "source": [
    "embeddings_index = dict()"
   ]
  },
  {
   "cell_type": "code",
   "execution_count": 94,
   "id": "c99286b7",
   "metadata": {},
   "outputs": [
    {
     "name": "stdout",
     "output_type": "stream",
     "text": [
      "Loaded 400011 word vectors.\n"
     ]
    }
   ],
   "source": [
    "for line in f:\n",
    "    values = line.split()\n",
    "    word = values[0]\n",
    "    coefs = np.asarray(values[1:], dtype='float32')\n",
    "    embeddings_index[word] = coefs\n",
    "\n",
    "f.close()\n",
    "print('Loaded %s word vectors.' % len(embeddings_index))"
   ]
  },
  {
   "cell_type": "code",
   "execution_count": 95,
   "id": "61e1ba65",
   "metadata": {},
   "outputs": [
    {
     "data": {
      "text/plain": [
       "(17621, 50)"
      ]
     },
     "execution_count": 95,
     "metadata": {},
     "output_type": "execute_result"
    }
   ],
   "source": [
    "embedding_dim = 50\n",
    "embedding_matrix = np.zeros((len(word_index)+1,embedding_dim))\n",
    "embedding_matrix.shape"
   ]
  },
  {
   "cell_type": "code",
   "execution_count": 144,
   "id": "aea49cec",
   "metadata": {},
   "outputs": [],
   "source": [
    "embedding_matrix = np.zeros((len(word_index)+1, 300))\n",
    "\n",
    "for word, i in tokenizer.word_index.items():\n",
    "    embedding_vector = embeddings_index.get(word)\n",
    "    if embedding_vector is not None:\n",
    "        embedding_matrix[i] = embedding_vector"
   ]
  },
  {
   "cell_type": "markdown",
   "id": "dfedaa69",
   "metadata": {},
   "source": [
    "# Based on the above simple naive bayes showed better accuracy,but there can be some more additional hyper parameter tuning and better models like bagging and boosting models that can be tried ,Also after the embedding neural networks would have produced better accuracy"
   ]
  },
  {
   "cell_type": "markdown",
   "id": "d3c4a045",
   "metadata": {},
   "source": [
    "Applying final chosen model on test data"
   ]
  },
  {
   "cell_type": "code",
   "execution_count": 223,
   "id": "a128c65e",
   "metadata": {},
   "outputs": [
    {
     "name": "stdout",
     "output_type": "stream",
     "text": [
      " Predict time: 0.77 secs\n"
     ]
    }
   ],
   "source": [
    "X_test_bag=cv.transform(df_test['text_cleaned']).toarray()\n",
    "X_bow = pd.DataFrame(X_test_bag)\n",
    "X_features = pd.concat([df_test[['word_count', 'char_count', 'sentence_count', 'avg_word_length', 'avg_sentence_lenght']],\n",
    "                        X_bow], axis=1)\n",
    "\n",
    "\n",
    "\n",
    "import time\n",
    "start_time = time.time()\n",
    "predictions_nb_bowtest= naive_bayes.predict(X_features)\n",
    "predictions_nb_bowtest\n",
    "end = time.time()\n",
    "pred_time = end - start_time\n",
    "print(' Predict time: {} secs'.format( round(pred_time, 2)))"
   ]
  },
  {
   "cell_type": "code",
   "execution_count": 213,
   "id": "86026a59",
   "metadata": {},
   "outputs": [
    {
     "data": {
      "text/plain": [
       "(7613, 17596)"
      ]
     },
     "execution_count": 213,
     "metadata": {},
     "output_type": "execute_result"
    }
   ],
   "source": [
    "X_train_bow.shape "
   ]
  },
  {
   "cell_type": "code",
   "execution_count": 220,
   "id": "eaeb26d0",
   "metadata": {},
   "outputs": [],
   "source": [
    "import time\n",
    "start_time = time.time()"
   ]
  },
  {
   "cell_type": "code",
   "execution_count": 214,
   "id": "0dfbd8d4",
   "metadata": {},
   "outputs": [],
   "source": [
    "X_test_bag= cv.transform(df_test['text_cleaned']).toarray()"
   ]
  },
  {
   "cell_type": "code",
   "execution_count": null,
   "id": "6e0b2dad",
   "metadata": {},
   "outputs": [],
   "source": []
  }
 ],
 "metadata": {
  "kernelspec": {
   "display_name": "Python 3",
   "language": "python",
   "name": "python3"
  },
  "language_info": {
   "codemirror_mode": {
    "name": "ipython",
    "version": 3
   },
   "file_extension": ".py",
   "mimetype": "text/x-python",
   "name": "python",
   "nbconvert_exporter": "python",
   "pygments_lexer": "ipython3",
   "version": "3.8.12"
  }
 },
 "nbformat": 4,
 "nbformat_minor": 5
}
